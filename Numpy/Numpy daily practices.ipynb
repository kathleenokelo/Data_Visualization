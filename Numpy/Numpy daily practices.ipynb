{
 "cells": [
  {
   "cell_type": "markdown",
   "metadata": {},
   "source": [
    "## Numpy Daily Practice 1"
   ]
  },
  {
   "cell_type": "markdown",
   "metadata": {},
   "source": [
    "1. Import the numpy package under the name np (★☆☆)\n",
    " \n",
    "2. Print the numpy version and the configuration (★☆☆)\n",
    " \n",
    "3. Create a null vector of size 10 (★☆☆)\n",
    " \n",
    "4. How to find the memory size of any array (★☆☆)\n",
    " \n",
    "5. How to get the documentation of the numpy add function from the command line? (★☆☆)\n",
    " \n",
    "6. Create a null vector of size 10 but the fifth value which is 1.\n",
    "\n",
    "7. Create a vector with values ranging from 10 to 49 (★☆☆)\n",
    " \n",
    "8. Reverse a vector (first element becomes last) (★☆☆)\n",
    " \n",
    "9. Create a 3x3 matrix with values ranging from 0 to 8 (★☆☆)\n",
    " \n",
    "10. Find indices of non-zero elements from [1,2,0,0,4,0] (★☆☆)\n",
    " \n",
    "11. Create a 3x3 identity matrix (★☆☆)\n",
    "\n",
    "12. Create a 3x3x3 array with random values (★☆☆)\n",
    " \n",
    "13. Create a 10x10 array with random values and find the minimum and maximum values (★☆☆)\n",
    " \n",
    "14. Create a random vector of size 30 and find the mean value (★☆☆)\n",
    " \n",
    "15. Create a 2d array with 1 on the border and 0 inside (★☆☆)\n",
    " "
   ]
  },
  {
   "cell_type": "code",
   "execution_count": 5,
   "metadata": {},
   "outputs": [],
   "source": [
    "# 1.Import the numpy package under the name np (★☆☆)\n",
    "\n",
    "\n",
    "import numpy as np"
   ]
  },
  {
   "cell_type": "code",
   "execution_count": 6,
   "metadata": {},
   "outputs": [
    {
     "data": {
      "text/plain": [
       "'2.0.0'"
      ]
     },
     "execution_count": 6,
     "metadata": {},
     "output_type": "execute_result"
    }
   ],
   "source": [
    "#2. Print the numpy version and the configuration (★☆☆)\n",
    " \n",
    "\n",
    "\n",
    "np.__version__"
   ]
  },
  {
   "cell_type": "code",
   "execution_count": 7,
   "metadata": {},
   "outputs": [
    {
     "name": "stdout",
     "output_type": "stream",
     "text": [
      "[0. 0. 0. 0. 0. 0. 0. 0. 0. 0.]\n"
     ]
    }
   ],
   "source": [
    "#3. Create a null vector of size 10 (★☆☆)\n",
    " \n",
    "\n",
    "\n",
    "null_vector = np.zeros(10)\n",
    "print(null_vector)"
   ]
  },
  {
   "cell_type": "code",
   "execution_count": 8,
   "metadata": {},
   "outputs": [
    {
     "name": "stdout",
     "output_type": "stream",
     "text": [
      "[[1 2 3]\n",
      " [4 5 6]\n",
      " [7 8 9]]\n",
      "9\n"
     ]
    }
   ],
   "source": [
    "#4.How to find the memory size of any array (★☆☆)\n",
    " \n",
    "arr = np.array([[1,2,3],[4,5,6],[7,8,9]])\n",
    "print(arr)\n",
    "print(arr.size)"
   ]
  },
  {
   "cell_type": "code",
   "execution_count": 9,
   "metadata": {},
   "outputs": [
    {
     "name": "stdout",
     "output_type": "stream",
     "text": [
      "Help on ufunc:\n",
      "\n",
      "add = <ufunc 'add'>\n",
      "    add(x1, x2, /, out=None, *, where=True, casting='same_kind', order='K', dtype=None, subok=True[, signature])\n",
      "\n",
      "    Add arguments element-wise.\n",
      "\n",
      "    Parameters\n",
      "    ----------\n",
      "    x1, x2 : array_like\n",
      "        The arrays to be added.\n",
      "        If ``x1.shape != x2.shape``, they must be broadcastable to a common\n",
      "        shape (which becomes the shape of the output).\n",
      "    out : ndarray, None, or tuple of ndarray and None, optional\n",
      "        A location into which the result is stored. If provided, it must have\n",
      "        a shape that the inputs broadcast to. If not provided or None,\n",
      "        a freshly-allocated array is returned. A tuple (possible only as a\n",
      "        keyword argument) must have length equal to the number of outputs.\n",
      "    where : array_like, optional\n",
      "        This condition is broadcast over the input. At locations where the\n",
      "        condition is True, the `out` array will be set to the ufunc result.\n",
      "        Elsewhere, the `out` array will retain its original value.\n",
      "        Note that if an uninitialized `out` array is created via the default\n",
      "        ``out=None``, locations within it where the condition is False will\n",
      "        remain uninitialized.\n",
      "    **kwargs\n",
      "        For other keyword-only arguments, see the\n",
      "        :ref:`ufunc docs <ufuncs.kwargs>`.\n",
      "\n",
      "    Returns\n",
      "    -------\n",
      "    add : ndarray or scalar\n",
      "        The sum of `x1` and `x2`, element-wise.\n",
      "        This is a scalar if both `x1` and `x2` are scalars.\n",
      "\n",
      "    Notes\n",
      "    -----\n",
      "    Equivalent to `x1` + `x2` in terms of array broadcasting.\n",
      "\n",
      "    Examples\n",
      "    --------\n",
      "    >>> np.add(1.0, 4.0)\n",
      "    5.0\n",
      "    >>> x1 = np.arange(9.0).reshape((3, 3))\n",
      "    >>> x2 = np.arange(3.0)\n",
      "    >>> np.add(x1, x2)\n",
      "    array([[  0.,   2.,   4.],\n",
      "           [  3.,   5.,   7.],\n",
      "           [  6.,   8.,  10.]])\n",
      "\n",
      "    The ``+`` operator can be used as a shorthand for ``np.add`` on ndarrays.\n",
      "\n",
      "    >>> x1 = np.arange(9.0).reshape((3, 3))\n",
      "    >>> x2 = np.arange(3.0)\n",
      "    >>> x1 + x2\n",
      "    array([[ 0.,  2.,  4.],\n",
      "           [ 3.,  5.,  7.],\n",
      "           [ 6.,  8., 10.]])\n",
      "\n"
     ]
    }
   ],
   "source": [
    "#5.How to get the documentation of the numpy add function from the command line? (★☆☆)\n",
    " \n",
    "\n",
    "help(np.add)"
   ]
  },
  {
   "cell_type": "code",
   "execution_count": 10,
   "metadata": {},
   "outputs": [
    {
     "name": "stdout",
     "output_type": "stream",
     "text": [
      "[0. 0. 0. 0. 1. 0. 0. 0. 0. 0.]\n"
     ]
    }
   ],
   "source": [
    "#6. Create a null vector of siHze 10 but the fifth value which is 1.\n",
    "\n",
    "\n",
    "null_vector=np.zeros(10)\n",
    "\n",
    "null_vector[4] = 1\n",
    "\n",
    "print(null_vector)"
   ]
  },
  {
   "cell_type": "code",
   "execution_count": 11,
   "metadata": {},
   "outputs": [
    {
     "name": "stdout",
     "output_type": "stream",
     "text": [
      "[29 16 46 11 16 34 18 34 23 33]\n"
     ]
    }
   ],
   "source": [
    "##7. Create a vector with values ranging from 10 to 49 (★☆☆)\n",
    " \n",
    "\n",
    "vector1 = np.random.randint(10,49,10)\n",
    "print(vector1)"
   ]
  },
  {
   "cell_type": "code",
   "execution_count": 12,
   "metadata": {},
   "outputs": [
    {
     "name": "stdout",
     "output_type": "stream",
     "text": [
      "[33 23 34 18 34 16 11 46 16 29]\n"
     ]
    }
   ],
   "source": [
    "#8. Reverse a vector (first element becomes last) (★☆☆)\n",
    "\n",
    "reversedVector= vector1[::-1]\n",
    "print(reversedVector)\n"
   ]
  },
  {
   "cell_type": "code",
   "execution_count": 13,
   "metadata": {},
   "outputs": [
    {
     "name": "stdout",
     "output_type": "stream",
     "text": [
      "[[5 6 5]\n",
      " [2 7 2]\n",
      " [2 1 3]]\n"
     ]
    }
   ],
   "source": [
    "#9. Create a 3x3 matrix with values ranging from 0 to 8 (★☆☆)\n",
    " \n",
    "arr1 = np.random.randint(0,8,(3,3))\n",
    "print(arr1)"
   ]
  },
  {
   "cell_type": "code",
   "execution_count": 14,
   "metadata": {},
   "outputs": [
    {
     "name": "stdout",
     "output_type": "stream",
     "text": [
      "[0 1 4]\n"
     ]
    }
   ],
   "source": [
    "#10. Find indices of non-zero elements from [1,2,0,0,4,0] (★☆☆)\n",
    " \n",
    "arry = np.array([1,2,0,0,4,0])\n",
    "\n",
    "non_zero = np.nonzero(arry)[0]\n",
    "print(non_zero)\n"
   ]
  },
  {
   "cell_type": "code",
   "execution_count": 15,
   "metadata": {},
   "outputs": [
    {
     "name": "stdout",
     "output_type": "stream",
     "text": [
      "[[1. 0. 0.]\n",
      " [0. 1. 0.]\n",
      " [0. 0. 1.]]\n"
     ]
    }
   ],
   "source": [
    "#11. Create a 3x3 identity matrix (★☆☆)\n",
    "\n",
    "identity_matrix = np.eye(3)\n",
    "print(identity_matrix)"
   ]
  },
  {
   "cell_type": "code",
   "execution_count": 16,
   "metadata": {},
   "outputs": [
    {
     "name": "stdout",
     "output_type": "stream",
     "text": [
      "[[0.66914189 0.10063397 0.93184528]\n",
      " [0.26694009 0.42505406 0.67591133]\n",
      " [0.12562557 0.20337136 0.36131597]]\n"
     ]
    }
   ],
   "source": [
    "#12. Create a 3x3x3 array with random values (★☆☆)\n",
    " \n",
    "arr2 = np.random.random((3,3))\n",
    "print(arr2)"
   ]
  },
  {
   "cell_type": "code",
   "execution_count": 17,
   "metadata": {},
   "outputs": [
    {
     "name": "stdout",
     "output_type": "stream",
     "text": [
      "array: [[0.04295669 0.39917047 0.97919137 0.76128    0.46607761 0.71370259\n",
      "  0.34626044 0.41753923 0.41761658 0.22274138]\n",
      " [0.25173274 0.06673778 0.59254986 0.61370954 0.6990441  0.41853858\n",
      "  0.53009436 0.45594875 0.62347967 0.20642593]\n",
      " [0.22660002 0.87167091 0.80100293 0.83264765 0.90653173 0.11895111\n",
      "  0.49124169 0.42547496 0.86519607 0.29497437]\n",
      " [0.46198706 0.41445652 0.0686     0.12230048 0.97106898 0.77392417\n",
      "  0.46357615 0.1511261  0.70156049 0.98882598]\n",
      " [0.33793774 0.42724402 0.94434834 0.02450983 0.76976866 0.37382576\n",
      "  0.13778785 0.57945007 0.59276506 0.94664185]\n",
      " [0.97871543 0.94400697 0.43593498 0.29396379 0.45690892 0.5650944\n",
      "  0.62899982 0.26579186 0.31235973 0.04643521]\n",
      " [0.5300518  0.55718252 0.5191893  0.16204605 0.38314608 0.44950395\n",
      "  0.9518892  0.12213556 0.60531656 0.7527475 ]\n",
      " [0.41820271 0.95989334 0.95455378 0.75895834 0.56275034 0.49566883\n",
      "  0.88420575 0.13362173 0.26988356 0.25900614]\n",
      " [0.37113019 0.7141728  0.94606132 0.10935008 0.52941588 0.7724833\n",
      "  0.28843032 0.57759713 0.03705914 0.7294532 ]\n",
      " [0.24085495 0.2681194  0.33851275 0.44975953 0.92678593 0.26843469\n",
      "  0.56326673 0.74755677 0.32286367 0.43458413]]\n",
      "maximum : 0.9888259788287094\n",
      "minimum:0.024509833507036283\n"
     ]
    }
   ],
   "source": [
    "#13. Create a 10x10 array with random values and find the minimum and maximum values (★☆☆)\n",
    " \n",
    "arr3 = np.random.random((10,10))\n",
    "print(f'array: {arr3}')\n",
    "max_value = np.max(arr3)\n",
    "print(f'maximum : {max_value}')\n",
    "min_value = np.min(arr3)\n",
    "print(f'minimum:{min_value}')\n"
   ]
  },
  {
   "cell_type": "code",
   "execution_count": 18,
   "metadata": {},
   "outputs": [
    {
     "name": "stdout",
     "output_type": "stream",
     "text": [
      "[0.71047488 0.6826857  0.87418326 0.74174321 0.12383981 0.67032768\n",
      " 0.86043134 0.62611907 0.69759205 0.39510354 0.43327371 0.21742663\n",
      " 0.74695709 0.46009807 0.18772902 0.19457328 0.95175738 0.53319218\n",
      " 0.65278064 0.42238134 0.7792196  0.02217807 0.51607348 0.39437895\n",
      " 0.64340678 0.03221276 0.37720263 0.45290734 0.43519039 0.31522673]\n",
      "0.5050222205657429\n"
     ]
    }
   ],
   "source": [
    "#14. Create a random vector of size 30 and find the mean value (★☆☆)\n",
    " \n",
    "randomVector = np.random.random(30)\n",
    "print(randomVector)\n",
    "mean_vector = np.mean(randomVector)\n",
    "print(mean_vector)"
   ]
  },
  {
   "cell_type": "code",
   "execution_count": 19,
   "metadata": {},
   "outputs": [
    {
     "name": "stdout",
     "output_type": "stream",
     "text": [
      "original array: [[0. 0. 0. 0. 0.]\n",
      " [0. 0. 0. 0. 0.]\n",
      " [0. 0. 0. 0. 0.]\n",
      " [0. 0. 0. 0. 0.]\n",
      " [0. 0. 0. 0. 0.]]\n",
      "new array: [[1. 1. 1. 1. 1.]\n",
      " [1. 0. 0. 0. 1.]\n",
      " [1. 0. 0. 0. 1.]\n",
      " [1. 0. 0. 0. 1.]\n",
      " [1. 1. 1. 1. 1.]]\n"
     ]
    }
   ],
   "source": [
    "#15. Create a 2d array with 1 on the border and 0 inside (★☆☆)\n",
    "\n",
    "arr4 = np.zeros((5,5))\n",
    "print(f'original array: {arr4}')\n",
    "\n",
    "arr4[0,: ] = 1\n",
    "arr4[:, 0] = 1\n",
    "arr4[-1, :] = 1\n",
    "arr4[:, -1] = 1\n",
    "\n",
    "print(f'new array: {arr4}')"
   ]
  },
  {
   "cell_type": "markdown",
   "metadata": {},
   "source": [
    "## Numpy Daily Prcatice 2"
   ]
  },
  {
   "cell_type": "markdown",
   "metadata": {},
   "source": [
    "16. How to add a border (filled with 0's) around an existing array? (★☆☆)\n",
    " \n",
    "17. What is the result of the following expression? (★☆☆)\n",
    "0 * np.nan\n",
    "np.nan == np.nan\n",
    "np.inf > np.nan\n",
    "np.nan - np.nan\n",
    "np.nan in set([np.nan])\n",
    "0.3 == 3 * 0.1\n",
    " \n",
    "18. Create a 5x5 matrix with values 1,2,3,4 just below the diagonal (★☆☆)\n",
    " \n",
    "19. Create a 8x8 matrix and fill it with a checkerboard pattern (★☆☆)\n",
    "\n",
    "20. Consider a (6,7,8) shape array, what is the index (x,y,z) of the 100th element?\n",
    " \n",
    "21. Create a checkerboard 8x8 matrix using the tile function (★☆☆)\n",
    " \n",
    "22. Normalize a 5x5 random matrix (★☆☆)\n",
    " \n",
    "23. Create a custom dtype that describes a color as four unsigned bytes (RGBA) (★☆☆)\n",
    " \n",
    "24. Multiply a 5x3 matrix by a 3x2 matrix (real matrix product) (★☆☆)\n",
    " \n",
    "25. Given a 1D array, negate all elements which are between 3 and 8, in place. (★☆☆)\n",
    " \n",
    "26. What is the output of the following script? (★☆☆)\n",
    "\n",
    "print(sum(range(5),-1))\n",
    "from numpy import *\n",
    "print(sum(range(5),-1))\n",
    "\n",
    "27. Consider an integer vector Z, which of these expressions are legal? (★☆☆)\n",
    "Z**Z\n",
    "2 << Z >> 2\n",
    "Z <- Z\n",
    "1j*Z\n",
    "Z/1/1\n",
    "Z<Z>Z\n",
    " \n",
    "28. What are the result of the following expressions?\n",
    "np.array(0) / np.array(0)\n",
    "np.array(0) // np.array(0)\n",
    "np.array([np.nan]).astype(int).astype(float)\n",
    " \n",
    "29. How to round away from zero a float array ? (★☆☆)\n",
    " \n",
    "30. How to find common values between two arrays? (★☆☆)\n",
    "\n"
   ]
  },
  {
   "cell_type": "code",
   "execution_count": 20,
   "metadata": {},
   "outputs": [
    {
     "name": "stdout",
     "output_type": "stream",
     "text": [
      "[[0. 0. 0. 0. 0.]\n",
      " [0. 1. 1. 1. 0.]\n",
      " [0. 1. 1. 1. 0.]\n",
      " [0. 1. 1. 1. 0.]\n",
      " [0. 0. 0. 0. 0.]]\n"
     ]
    }
   ],
   "source": [
    "# 16\n",
    "\n",
    "arr1 = np.ones((3,3))\n",
    "\n",
    "padded_arr1 = np.pad(arr1,pad_width=1,mode='constant', constant_values= 0)\n",
    "\n",
    "print(padded_arr1)\n"
   ]
  },
  {
   "cell_type": "code",
   "execution_count": 4,
   "metadata": {},
   "outputs": [
    {
     "name": "stdout",
     "output_type": "stream",
     "text": [
      "result1 : nan\n",
      "Result2 : False\n",
      "result3: False\n",
      "result4: nan\n",
      "result5: True\n",
      "result6: True\n"
     ]
    }
   ],
   "source": [
    "#17. What is the result of the following expression? (★☆☆)\n",
    "result1 = 0 * np.nan\n",
    "print(f'result1 : {result1}')\n",
    "\n",
    "result2 = np.nan == np.nan\n",
    "print(f'Result2 : {result2}')\n",
    "\n",
    "result3 = np.inf > np.nan\n",
    "print(f'result3: {result3}')\n",
    "\n",
    "result4 = np.nan - np.nan\n",
    "print(f'result4: {result4}')\n",
    "\n",
    "result5 = np.nan in set([np.nan])\n",
    "print(f'result5: {result5}')\n",
    "\n",
    "result6 = 3 == 3 * 0.1\n",
    "print(f'result6: {result6}')"
   ]
  },
  {
   "cell_type": "code",
   "execution_count": 22,
   "metadata": {},
   "outputs": [
    {
     "name": "stdout",
     "output_type": "stream",
     "text": [
      "[[0 0 0 0 0]\n",
      " [1 0 0 0 0]\n",
      " [0 2 0 0 0]\n",
      " [0 0 3 0 0]\n",
      " [0 0 0 4 0]]\n"
     ]
    }
   ],
   "source": [
    "#18. Create a 5x5 matrix with values 1,2,3,4 just below the diagonal (★☆☆)\n",
    "\n",
    "values = np.array([1,2,3,4])\n",
    "\n",
    "matrix = np.zeros((5,5))\n",
    "\n",
    "matrix =+ np.diag(values,k=-1)\n",
    "\n",
    "print(matrix)"
   ]
  },
  {
   "cell_type": "code",
   "execution_count": 11,
   "metadata": {},
   "outputs": [
    {
     "name": "stdout",
     "output_type": "stream",
     "text": [
      "[[0. 1. 0. 1. 0. 1. 0. 1.]\n",
      " [1. 0. 1. 0. 1. 0. 1. 0.]\n",
      " [0. 1. 0. 1. 0. 1. 0. 1.]\n",
      " [1. 0. 1. 0. 1. 0. 1. 0.]\n",
      " [0. 1. 0. 1. 0. 1. 0. 1.]\n",
      " [1. 0. 1. 0. 1. 0. 1. 0.]\n",
      " [0. 1. 0. 1. 0. 1. 0. 1.]\n",
      " [1. 0. 1. 0. 1. 0. 1. 0.]]\n"
     ]
    }
   ],
   "source": [
    "# 19. Create a 8x8 matrix and fill it with a checkerboard pattern (★☆☆)\n",
    "\n",
    "matrix = np.zeros((8,8))\n",
    "\n",
    "matrix[1::2,::2] = 1\n",
    "matrix[::2,1::2] = 1\n",
    "\n",
    "print(matrix)\n",
    "\n"
   ]
  },
  {
   "cell_type": "code",
   "execution_count": 24,
   "metadata": {},
   "outputs": [
    {
     "name": "stdout",
     "output_type": "stream",
     "text": [
      "(np.int64(1), np.int64(5), np.int64(3))\n"
     ]
    }
   ],
   "source": [
    "#20. Consider a (6,7,8) shape array, what is the index (x,y,z) of the 100th element?\n",
    "\n",
    "shape = (6,7,8)\n",
    "\n",
    "index1 = 99\n",
    "\n",
    "multiIndex = np.unravel_index(index1,shape)\n",
    "\n",
    "print(multiIndex)"
   ]
  },
  {
   "cell_type": "code",
   "execution_count": 12,
   "metadata": {},
   "outputs": [
    {
     "name": "stdout",
     "output_type": "stream",
     "text": [
      "[[1 0 1 0 1 0 1 0]\n",
      " [0 1 0 1 0 1 0 1]\n",
      " [1 0 1 0 1 0 1 0]\n",
      " [0 1 0 1 0 1 0 1]\n",
      " [1 0 1 0 1 0 1 0]\n",
      " [0 1 0 1 0 1 0 1]\n",
      " [1 0 1 0 1 0 1 0]\n",
      " [0 1 0 1 0 1 0 1]]\n",
      "[[1 0]\n",
      " [0 1]]\n"
     ]
    }
   ],
   "source": [
    "#21. Create a checkerboard 8x8 matrix using the tile function (★☆☆)\n",
    "\n",
    "a = np.array([[1,0],[0,1]])\n",
    "\n",
    "matrix = np.tile(a,(4,4))\n",
    "print(matrix)\n",
    "\n",
    "print(a)"
   ]
  },
  {
   "cell_type": "code",
   "execution_count": 14,
   "metadata": {},
   "outputs": [
    {
     "name": "stdout",
     "output_type": "stream",
     "text": [
      "OriginalMatrix:\n",
      " [[0.80051711 0.54679354 0.4441171  0.95330842 0.1264255 ]\n",
      " [0.08182886 0.14446994 0.0407995  0.1764425  0.67282   ]\n",
      " [0.15728871 0.20654481 0.97821134 0.73529773 0.19853595]\n",
      " [0.83543891 0.65015323 0.63727584 0.175103   0.52784443]\n",
      " [0.19164062 0.10358452 0.61213554 0.81483345 0.64918252]]\n",
      "NormalizedMatrix:\n",
      " [[0.81044166 0.53977774 0.4302459  0.97343439 0.09134299]\n",
      " [0.04376877 0.11059221 0.         0.14469948 0.6742186 ]\n",
      " [0.12426685 0.17681163 1.         0.74086778 0.16826804]\n",
      " [0.84769508 0.65003844 0.63630126 0.14327055 0.51956345]\n",
      " [0.16091233 0.066977   0.60948242 0.82571386 0.64900292]]\n"
     ]
    }
   ],
   "source": [
    "#21.Normalize a 5x5 random matrix (★☆☆)\n",
    "\n",
    "#Min - Max Normalization\n",
    "\n",
    "random_matrix = np.random.random((5,5))\n",
    "\n",
    "min_value = np.min(random_matrix)\n",
    "max_value = np.max(random_matrix)\n",
    "\n",
    "normalized_matrix = (random_matrix - min_value) / (max_value - min_value)\n",
    "\n",
    "print(f'OriginalMatrix:\\n {random_matrix}')\n",
    "print(f'NormalizedMatrix:\\n {normalized_matrix}')"
   ]
  },
  {
   "cell_type": "code",
   "execution_count": 15,
   "metadata": {},
   "outputs": [
    {
     "name": "stdout",
     "output_type": "stream",
     "text": [
      "[[-0.72112804 -0.97485161 -1.07752805 -0.56833673 -1.39521965]\n",
      " [-1.43981629 -1.37717521 -1.48084565 -1.34520265 -0.84882515]\n",
      " [-1.36435644 -1.31510034 -0.54343381 -0.78634743 -1.32310921]\n",
      " [-0.68620624 -0.87149192 -0.88436931 -1.34654215 -0.99380072]\n",
      " [-1.33000453 -1.41806063 -0.90950961 -0.7068117  -0.87246263]]\n"
     ]
    }
   ],
   "source": [
    "#Normalization by Z Score method\n",
    "Z = np.mean(random_matrix)\n",
    "\n",
    "\n",
    "result = random_matrix - Z / np.std(random_matrix)\n",
    "print(result)"
   ]
  },
  {
   "cell_type": "code",
   "execution_count": 19,
   "metadata": {},
   "outputs": [
    {
     "name": "stdout",
     "output_type": "stream",
     "text": [
      "[(255,   0,   0, 255) (  0, 255,   0, 255) (  0,   0, 255, 255)\n",
      " (255, 255,   0, 255)]\n",
      "[('R', 'u1'), ('G', 'u1'), ('B', 'u1'), ('A', 'u1')]\n"
     ]
    }
   ],
   "source": [
    "#23.Create a custom dtype that describes a color as four unsigned bytes (RGBA) (★☆☆)\n",
    "\n",
    "colorDtype=np.dtype([('R',np.ubyte),('G',np.ubyte),('B',np.ubyte),('A',np.ubyte)])\n",
    "\n",
    "colors = np.array([(255,0,0,255),\n",
    "                   (0,255,0,255),\n",
    "                   (0,0,255,255),\n",
    "                   (255,255,0,255)],dtype=colorDtype)\n",
    "\n",
    "print(colors)\n",
    "print(colors.dtype)\n"
   ]
  },
  {
   "cell_type": "code",
   "execution_count": 23,
   "metadata": {},
   "outputs": [
    {
     "name": "stdout",
     "output_type": "stream",
     "text": [
      "[[14  9 25]\n",
      " [27 11 28]\n",
      " [22 26  5]\n",
      " [14 26  2]\n",
      " [24 29 12]]\n",
      " multiply \n",
      "[[32 34]\n",
      " [57 52]\n",
      " [39 59]]\n",
      " is\n",
      "[[1936 2419]\n",
      " [2583 3142]\n",
      " [2381 2395]\n",
      " [2008 1946]\n",
      " [2889 3032]]\n"
     ]
    }
   ],
   "source": [
    "#24.Multiply a 5x3 matrix by a 3x2 matrix (real matrix product) (★☆☆)\n",
    "\n",
    "matrix1 = np.random.randint(1,30,(5,3))\n",
    "matrix2 = np.random.randint(30,60,(3,2))\n",
    "\n",
    "#result = matrix1*matrix2\n",
    "result1 = np.dot(matrix1,matrix2)\n",
    "\n",
    "print(f'{matrix1}\\n multiply \\n{matrix2}\\n is\\n{result1}')\n"
   ]
  },
  {
   "cell_type": "code",
   "execution_count": 25,
   "metadata": {},
   "outputs": [
    {
     "ename": "ValueError",
     "evalue": "shapes (3,) and (2,) not aligned: 3 (dim 0) != 2 (dim 0)",
     "output_type": "error",
     "traceback": [
      "\u001b[1;31m---------------------------------------------------------------------------\u001b[0m",
      "\u001b[1;31mValueError\u001b[0m                                Traceback (most recent call last)",
      "Cell \u001b[1;32mIn[25], line 4\u001b[0m\n\u001b[0;32m      1\u001b[0m A \u001b[38;5;241m=\u001b[39m np\u001b[38;5;241m.\u001b[39marray([\u001b[38;5;241m1\u001b[39m,\u001b[38;5;241m2\u001b[39m,\u001b[38;5;241m3\u001b[39m])\n\u001b[0;32m      2\u001b[0m B \u001b[38;5;241m=\u001b[39m np\u001b[38;5;241m.\u001b[39marray([\u001b[38;5;241m4\u001b[39m,\u001b[38;5;241m5\u001b[39m])\n\u001b[1;32m----> 4\u001b[0m result \u001b[38;5;241m=\u001b[39m \u001b[43mnp\u001b[49m\u001b[38;5;241;43m.\u001b[39;49m\u001b[43mdot\u001b[49m\u001b[43m(\u001b[49m\u001b[43mA\u001b[49m\u001b[43m,\u001b[49m\u001b[43mB\u001b[49m\u001b[43m)\u001b[49m\n\u001b[0;32m      6\u001b[0m \u001b[38;5;28mprint\u001b[39m(result)\n",
      "\u001b[1;31mValueError\u001b[0m: shapes (3,) and (2,) not aligned: 3 (dim 0) != 2 (dim 0)"
     ]
    }
   ],
   "source": [
    "A = np.array([1,2,3])\n",
    "B = np.array([4,5])\n",
    "\n",
    "result = np.dot(A,B)\n",
    "\n",
    "print(result)"
   ]
  },
  {
   "cell_type": "code",
   "execution_count": 26,
   "metadata": {},
   "outputs": [
    {
     "data": {
      "text/plain": [
       "array([[14,  9, 25],\n",
       "       [27, 11, 28],\n",
       "       [22, 26,  5],\n",
       "       [14, 26,  2],\n",
       "       [24, 29, 12]], dtype=int32)"
      ]
     },
     "execution_count": 26,
     "metadata": {},
     "output_type": "execute_result"
    }
   ],
   "source": [
    "matrix1"
   ]
  },
  {
   "cell_type": "code",
   "execution_count": 27,
   "metadata": {},
   "outputs": [
    {
     "data": {
      "text/plain": [
       "array([[32, 34],\n",
       "       [57, 52],\n",
       "       [39, 59]], dtype=int32)"
      ]
     },
     "execution_count": 27,
     "metadata": {},
     "output_type": "execute_result"
    }
   ],
   "source": [
    "matrix2"
   ]
  },
  {
   "cell_type": "code",
   "execution_count": 29,
   "metadata": {},
   "outputs": [
    {
     "name": "stdout",
     "output_type": "stream",
     "text": [
      "[ 1  2  3 -4 -5 -6 -7  8]\n"
     ]
    }
   ],
   "source": [
    "#25. Given a 1D array, negate all elements which are between 3 and 8, in place. (★☆☆)\n",
    "\n",
    "arr =np.array([1,2,3,4,5,6,7,8])\n",
    "\n",
    "arr[(3<arr)&(arr<8)] *= -1\n",
    "\n",
    "print(arr)"
   ]
  },
  {
   "cell_type": "code",
   "execution_count": 30,
   "metadata": {},
   "outputs": [
    {
     "name": "stdout",
     "output_type": "stream",
     "text": [
      "9\n",
      "10\n",
      "range(0, 5)\n"
     ]
    }
   ],
   "source": [
    "#26. What is the output of the following script? (★☆☆)\n",
    "\n",
    "print(sum(range(5),-1)) #python method\n",
    "from numpy import *\n",
    "print(sum(range(5),-1)) #numpy method\n",
    "\n",
    "print(range(5))"
   ]
  },
  {
   "cell_type": "code",
   "execution_count": 31,
   "metadata": {},
   "outputs": [
    {
     "name": "stdout",
     "output_type": "stream",
     "text": [
      "\u001b[1;31mSignature:\u001b[0m      \n",
      "\u001b[0mnp\u001b[0m\u001b[1;33m.\u001b[0m\u001b[0msum\u001b[0m\u001b[1;33m(\u001b[0m\u001b[1;33m\n",
      "\u001b[0m    \u001b[0ma\u001b[0m\u001b[1;33m,\u001b[0m\u001b[1;33m\n",
      "\u001b[0m    \u001b[0maxis\u001b[0m\u001b[1;33m=\u001b[0m\u001b[1;32mNone\u001b[0m\u001b[1;33m,\u001b[0m\u001b[1;33m\n",
      "\u001b[0m    \u001b[0mdtype\u001b[0m\u001b[1;33m=\u001b[0m\u001b[1;32mNone\u001b[0m\u001b[1;33m,\u001b[0m\u001b[1;33m\n",
      "\u001b[0m    \u001b[0mout\u001b[0m\u001b[1;33m=\u001b[0m\u001b[1;32mNone\u001b[0m\u001b[1;33m,\u001b[0m\u001b[1;33m\n",
      "\u001b[0m    \u001b[0mkeepdims\u001b[0m\u001b[1;33m=\u001b[0m\u001b[1;33m<\u001b[0m\u001b[0mno\u001b[0m \u001b[0mvalue\u001b[0m\u001b[1;33m>\u001b[0m\u001b[1;33m,\u001b[0m\u001b[1;33m\n",
      "\u001b[0m    \u001b[0minitial\u001b[0m\u001b[1;33m=\u001b[0m\u001b[1;33m<\u001b[0m\u001b[0mno\u001b[0m \u001b[0mvalue\u001b[0m\u001b[1;33m>\u001b[0m\u001b[1;33m,\u001b[0m\u001b[1;33m\n",
      "\u001b[0m    \u001b[0mwhere\u001b[0m\u001b[1;33m=\u001b[0m\u001b[1;33m<\u001b[0m\u001b[0mno\u001b[0m \u001b[0mvalue\u001b[0m\u001b[1;33m>\u001b[0m\u001b[1;33m,\u001b[0m\u001b[1;33m\n",
      "\u001b[0m\u001b[1;33m)\u001b[0m\u001b[1;33m\u001b[0m\u001b[1;33m\u001b[0m\u001b[0m\n",
      "\u001b[1;31mCall signature:\u001b[0m  \u001b[0mnp\u001b[0m\u001b[1;33m.\u001b[0m\u001b[0msum\u001b[0m\u001b[1;33m(\u001b[0m\u001b[1;33m*\u001b[0m\u001b[0margs\u001b[0m\u001b[1;33m,\u001b[0m \u001b[1;33m**\u001b[0m\u001b[0mkwargs\u001b[0m\u001b[1;33m)\u001b[0m\u001b[1;33m\u001b[0m\u001b[1;33m\u001b[0m\u001b[0m\n",
      "\u001b[1;31mType:\u001b[0m            _ArrayFunctionDispatcher\n",
      "\u001b[1;31mString form:\u001b[0m     <function sum at 0x00000173105DDDA0>\n",
      "\u001b[1;31mFile:\u001b[0m            c:\\users\\kathleen\\desktop\\datavisualization\\datavis\\lib\\site-packages\\numpy\\_core\\fromnumeric.py\n",
      "\u001b[1;31mDocstring:\u001b[0m      \n",
      "Sum of array elements over a given axis.\n",
      "\n",
      "Parameters\n",
      "----------\n",
      "a : array_like\n",
      "    Elements to sum.\n",
      "axis : None or int or tuple of ints, optional\n",
      "    Axis or axes along which a sum is performed.  The default,\n",
      "    axis=None, will sum all of the elements of the input array.  If\n",
      "    axis is negative it counts from the last to the first axis.\n",
      "\n",
      "    .. versionadded:: 1.7.0\n",
      "\n",
      "    If axis is a tuple of ints, a sum is performed on all of the axes\n",
      "    specified in the tuple instead of a single axis or all the axes as\n",
      "    before.\n",
      "dtype : dtype, optional\n",
      "    The type of the returned array and of the accumulator in which the\n",
      "    elements are summed.  The dtype of `a` is used by default unless `a`\n",
      "    has an integer dtype of less precision than the default platform\n",
      "    integer.  In that case, if `a` is signed then the platform integer\n",
      "    is used while if `a` is unsigned then an unsigned integer of the\n",
      "    same precision as the platform integer is used.\n",
      "out : ndarray, optional\n",
      "    Alternative output array in which to place the result. It must have\n",
      "    the same shape as the expected output, but the type of the output\n",
      "    values will be cast if necessary.\n",
      "keepdims : bool, optional\n",
      "    If this is set to True, the axes which are reduced are left\n",
      "    in the result as dimensions with size one. With this option,\n",
      "    the result will broadcast correctly against the input array.\n",
      "\n",
      "    If the default value is passed, then `keepdims` will not be\n",
      "    passed through to the `sum` method of sub-classes of\n",
      "    `ndarray`, however any non-default value will be.  If the\n",
      "    sub-class' method does not implement `keepdims` any\n",
      "    exceptions will be raised.\n",
      "initial : scalar, optional\n",
      "    Starting value for the sum. See `~numpy.ufunc.reduce` for details.\n",
      "\n",
      "    .. versionadded:: 1.15.0\n",
      "\n",
      "where : array_like of bool, optional\n",
      "    Elements to include in the sum. See `~numpy.ufunc.reduce` for details.\n",
      "\n",
      "    .. versionadded:: 1.17.0\n",
      "\n",
      "Returns\n",
      "-------\n",
      "sum_along_axis : ndarray\n",
      "    An array with the same shape as `a`, with the specified\n",
      "    axis removed.   If `a` is a 0-d array, or if `axis` is None, a scalar\n",
      "    is returned.  If an output array is specified, a reference to\n",
      "    `out` is returned.\n",
      "\n",
      "See Also\n",
      "--------\n",
      "ndarray.sum : Equivalent method.\n",
      "add: ``numpy.add.reduce`` equivalent function.\n",
      "cumsum : Cumulative sum of array elements.\n",
      "\n",
      "mean, average\n",
      "\n",
      "Notes\n",
      "-----\n",
      "Arithmetic is modular when using integer types, and no error is\n",
      "raised on overflow.\n",
      "\n",
      "The sum of an empty array is the neutral element 0:\n",
      "\n",
      ">>> np.sum([])\n",
      "0.0\n",
      "\n",
      "For floating point numbers the numerical precision of sum (and\n",
      "``np.add.reduce``) is in general limited by directly adding each number\n",
      "individually to the result causing rounding errors in every step.\n",
      "However, often numpy will use a  numerically better approach (partial\n",
      "pairwise summation) leading to improved precision in many use-cases.\n",
      "This improved precision is always provided when no ``axis`` is given.\n",
      "When ``axis`` is given, it will depend on which axis is summed.\n",
      "Technically, to provide the best speed possible, the improved precision\n",
      "is only used when the summation is along the fast axis in memory.\n",
      "Note that the exact precision may vary depending on other parameters.\n",
      "In contrast to NumPy, Python's ``math.fsum`` function uses a slower but\n",
      "more precise approach to summation.\n",
      "Especially when summing a large number of lower precision floating point\n",
      "numbers, such as ``float32``, numerical errors can become significant.\n",
      "In such cases it can be advisable to use `dtype=\"float64\"` to use a higher\n",
      "precision for the output.\n",
      "\n",
      "Examples\n",
      "--------\n",
      ">>> np.sum([0.5, 1.5])\n",
      "2.0\n",
      ">>> np.sum([0.5, 0.7, 0.2, 1.5], dtype=np.int32)\n",
      "1\n",
      ">>> np.sum([[0, 1], [0, 5]])\n",
      "6\n",
      ">>> np.sum([[0, 1], [0, 5]], axis=0)\n",
      "array([0, 6])\n",
      ">>> np.sum([[0, 1], [0, 5]], axis=1)\n",
      "array([1, 5])\n",
      ">>> np.sum([[0, 1], [np.nan, 5]], where=[False, True], axis=1)\n",
      "array([1., 5.])\n",
      "\n",
      "If the accumulator is too small, overflow occurs:\n",
      "\n",
      ">>> np.ones(128, dtype=np.int8).sum(dtype=np.int8)\n",
      "-128\n",
      "\n",
      "You can also start the sum with a value other than zero:\n",
      "\n",
      ">>> np.sum([10], initial=5)\n",
      "15\n",
      "\u001b[1;31mClass docstring:\u001b[0m\n",
      "Class to wrap functions with checks for __array_function__ overrides.\n",
      "\n",
      "All arguments are required, and can only be passed by position.\n",
      "\n",
      "Parameters\n",
      "----------\n",
      "dispatcher : function or None\n",
      "    The dispatcher function that returns a single sequence-like object\n",
      "    of all arguments relevant.  It must have the same signature (except\n",
      "    the default values) as the actual implementation.\n",
      "    If ``None``, this is a ``like=`` dispatcher and the\n",
      "    ``_ArrayFunctionDispatcher`` must be called with ``like`` as the\n",
      "    first (additional and positional) argument.\n",
      "implementation : function\n",
      "    Function that implements the operation on NumPy arrays without\n",
      "    overrides.  Arguments passed calling the ``_ArrayFunctionDispatcher``\n",
      "    will be forwarded to this (and the ``dispatcher``) as if using\n",
      "    ``*args, **kwargs``.\n",
      "\n",
      "Attributes\n",
      "----------\n",
      "_implementation : function\n",
      "    The original implementation passed in."
     ]
    }
   ],
   "source": [
    "np.sum?"
   ]
  },
  {
   "cell_type": "code",
   "execution_count": null,
   "metadata": {},
   "outputs": [],
   "source": [
    "#27.Consider an integer vector Z, which of these expressions are legal? (★☆☆)\n",
    "Z = np.array([1,2,3,4,5,6,7,8])\n",
    "Z**Z\n",
    "2 << Z >> 2\n",
    "Z <- Z\n",
    "1j*Z\n",
    "Z/1/1\n",
    "Z<Z>Z"
   ]
  },
  {
   "cell_type": "code",
   "execution_count": null,
   "metadata": {},
   "outputs": [
    {
     "name": "stdout",
     "output_type": "stream",
     "text": [
      "result7: nan\n",
      "result8: 0\n",
      "result9: [-9.22337204e+18]\n"
     ]
    },
    {
     "name": "stderr",
     "output_type": "stream",
     "text": [
      "C:\\Users\\Kathleen\\AppData\\Local\\Temp\\ipykernel_12644\\985100537.py:3: RuntimeWarning: invalid value encountered in divide\n",
      "  result7 = np.array(0) / np.array(0)\n",
      "C:\\Users\\Kathleen\\AppData\\Local\\Temp\\ipykernel_12644\\985100537.py:6: RuntimeWarning: divide by zero encountered in floor_divide\n",
      "  result8 = np.array(0) // np.array(0)\n",
      "C:\\Users\\Kathleen\\AppData\\Local\\Temp\\ipykernel_12644\\985100537.py:9: RuntimeWarning: invalid value encountered in cast\n",
      "  result9 = np.array([np.nan]).astype(int).astype(float)\n"
     ]
    }
   ],
   "source": [
    "#28. What are the result of the following expressions?\n",
    "\n",
    "result7 = np.array(0) / np.array(0)\n",
    "print(f'result7: {result7}')\n",
    "\n",
    "result8 = np.array(0) // np.array(0)\n",
    "print(f'result8: {result8}')\n",
    "\n",
    "result9 = np.array([np.nan]).astype(int).astype(float)\n",
    "print(f'result9: {result9}')"
   ]
  },
  {
   "cell_type": "code",
   "execution_count": 35,
   "metadata": {},
   "outputs": [
    {
     "data": {
      "text/plain": [
       "2"
      ]
     },
     "execution_count": 35,
     "metadata": {},
     "output_type": "execute_result"
    }
   ],
   "source": [
    "\n",
    "14//5"
   ]
  },
  {
   "cell_type": "code",
   "execution_count": 36,
   "metadata": {},
   "outputs": [
    {
     "name": "stdout",
     "output_type": "stream",
     "text": [
      "Original array:\n",
      " [ 1.7  1.3  0.2 -0.5 -1.7]\n",
      "Rounded array:\n",
      " [ 2.  2.  1. -0. -1.]\n",
      "[ 1.  1.  0. -1. -2.]\n"
     ]
    }
   ],
   "source": [
    "#29. How to round away from zero a float array ? (★☆☆)\n",
    "\n",
    "import numpy as np\n",
    "\n",
    "float_arr = np.array([1.7,1.3,0.2,-0.5,-1.7])\n",
    "\n",
    "rounded_arr = np.ceil(float_arr)\n",
    "rounded_to = np.floor(float_arr)\n",
    "\n",
    "print('Original array:\\n',float_arr)\n",
    "print('Rounded array:\\n',rounded_arr)\n",
    "print(rounded_to)\n",
    "\n"
   ]
  },
  {
   "cell_type": "code",
   "execution_count": 3,
   "metadata": {},
   "outputs": [
    {
     "name": "stdout",
     "output_type": "stream",
     "text": [
      "common values: [5 7]\n"
     ]
    }
   ],
   "source": [
    "#30. How to find common values between two arrays? \n",
    "\n",
    "arr1 = np.array([1,3,5,7,9])\n",
    "arr2 = np.array([8,7,5,4,2])\n",
    "\n",
    "common = np.intersect1d(arr1,arr2)\n",
    "\n",
    "print('common values:',common)"
   ]
  },
  {
   "cell_type": "markdown",
   "metadata": {},
   "source": [
    "## Numpy Daily Practice 3"
   ]
  },
  {
   "cell_type": "markdown",
   "metadata": {},
   "source": [
    "31. How to ignore all numpy warnings (not recommended)? (★☆☆)\n",
    " \n",
    "32. Is the following expressions true? (★☆☆)\n",
    "np.sqrt(-1) == np.emath.sqrt(-1)\n",
    " \n",
    "33. How to get the dates of yesterday, today and tomorrow? (★☆☆)\n",
    " \n",
    "34. How to get all the dates corresponding to the month of July 2016? (★★☆)\n",
    "\n",
    "35. How to compute ((A+B)*(-A/2)) in place (without copy)? (★★☆)\n",
    " \n",
    "36. Extract the integer part of a random array of positive numbers using 4 different methods (★★☆)\n",
    " \n",
    "37. Create a 5x5 matrix with row values ranging from 0 to 4 (★★☆)\n",
    " \n",
    "38. Consider a generator function that generates 10 integers and use it to build an array (★☆☆)\n",
    "\n",
    "39. Create a vector of size 10 with values ranging from 0 to 1, both excluded (★★☆)\n",
    " \n",
    "40. Create a random vector of size 10 and sort it (★★☆)\n",
    " \n",
    "41. How to sum a small array faster than np.sum? (★★☆)\n",
    " \n",
    "42. Consider two random array A and B, check if they are equal (★★☆)\n",
    "\n",
    "43. Make an array immutable (read-only) (★★☆)\n",
    " \n",
    "44. Consider a random 10x2 matrix representing cartesian coordinates, convert them to polar coordinates (★★☆)\n",
    " \n",
    "45. Create random vector of size 10 and replace the maximum value by 0 (★★☆)\n",
    "\n",
    " \n"
   ]
  },
  {
   "cell_type": "code",
   "execution_count": null,
   "metadata": {},
   "outputs": [],
   "source": [
    "#31. How to ignore all numpy warnings (not recommended)? (★☆☆)\n",
    " \n",
    "np.seterr(all = 'ignore')\n",
    "\n"
   ]
  },
  {
   "cell_type": "code",
   "execution_count": null,
   "metadata": {},
   "outputs": [
    {
     "name": "stderr",
     "output_type": "stream",
     "text": [
      "C:\\Users\\Kathleen\\AppData\\Local\\Temp\\ipykernel_13916\\2433753584.py:2: RuntimeWarning: invalid value encountered in sqrt\n",
      "  np.sqrt(-1) == np.emath.sqrt(-1)\n"
     ]
    },
    {
     "data": {
      "text/plain": [
       "np.False_"
      ]
     },
     "execution_count": 3,
     "metadata": {},
     "output_type": "execute_result"
    }
   ],
   "source": [
    "#32. Is the following expressions true? (★☆☆)\n",
    "np.sqrt(-1) == np.emath.sqrt(-1)\n",
    " \n"
   ]
  },
  {
   "cell_type": "code",
   "execution_count": null,
   "metadata": {},
   "outputs": [
    {
     "name": "stdout",
     "output_type": "stream",
     "text": [
      "Yesterday: 2024-07-08\n",
      "Today: 2024-07-09\n",
      "Tomorrow: 2024-07-10\n"
     ]
    }
   ],
   "source": [
    "#33. How to get the dates of yesterday, today and tomorrow? (★☆☆)\n",
    "\n",
    "today = np.datetime64('today','D')\n",
    "yesterday = today - np.timedelta64(1,'D')\n",
    "tomorrow = today + np.timedelta64(1, 'D')\n",
    "\n",
    "print('Yesterday:',yesterday)\n",
    "print('Today:',today)\n",
    "print('Tomorrow:',tomorrow)"
   ]
  },
  {
   "cell_type": "code",
   "execution_count": null,
   "metadata": {},
   "outputs": [
    {
     "name": "stdout",
     "output_type": "stream",
     "text": [
      "['2016-07-01' '2016-07-02' '2016-07-03' '2016-07-04' '2016-07-05'\n",
      " '2016-07-06' '2016-07-07' '2016-07-08' '2016-07-09' '2016-07-10'\n",
      " '2016-07-11' '2016-07-12' '2016-07-13' '2016-07-14' '2016-07-15'\n",
      " '2016-07-16' '2016-07-17' '2016-07-18' '2016-07-19' '2016-07-20'\n",
      " '2016-07-21' '2016-07-22' '2016-07-23' '2016-07-24' '2016-07-25'\n",
      " '2016-07-26' '2016-07-27' '2016-07-28' '2016-07-29' '2016-07-30'\n",
      " '2016-07-31']\n"
     ]
    }
   ],
   "source": [
    "#34. How to get all the dates corresponding to the month of July 2016? (★★☆)\n",
    "\n",
    "july_2016 = np.arange('2016-07-01','2016-08-01',dtype='datetime64[D]')\n",
    "print(july_2016)\n"
   ]
  },
  {
   "cell_type": "code",
   "execution_count": null,
   "metadata": {},
   "outputs": [],
   "source": [
    "#35. How to compute ((A+B)*(-A/2)) in place (without copy)? (★★☆)\n",
    "\n",
    "a = np.arange(5)\n",
    "b = np.arange(5)\n",
    "\n",
    "np.add(a,b,out=b)\n",
    "np.negative(a,out=a)\n",
    "np.divide(a,2,out=a)\n",
    "np.multiply(a,b,out=b)\n"
   ]
  },
  {
   "cell_type": "code",
   "execution_count": null,
   "metadata": {},
   "outputs": [
    {
     "name": "stdout",
     "output_type": "stream",
     "text": [
      "Original array:\n",
      " [[5.28217145 6.93536594 6.14488842 6.84495904 8.96306329]\n",
      " [8.80785018 2.35711516 0.59433184 3.6430693  0.920661  ]\n",
      " [7.93429463 9.73171271 7.43044766 8.1583902  4.00523385]\n",
      " [5.24032671 8.90657735 2.29814338 6.95992424 0.55345583]\n",
      " [1.47750961 6.45101121 5.16819247 1.58313588 3.48401655]]\n",
      "floor method: \n",
      "  [[5. 6. 6. 6. 8.]\n",
      " [8. 2. 0. 3. 0.]\n",
      " [7. 9. 7. 8. 4.]\n",
      " [5. 8. 2. 6. 0.]\n",
      " [1. 6. 5. 1. 3.]]\n",
      "ceiling method: \n",
      " [[ 6.  7.  7.  7.  9.]\n",
      " [ 9.  3.  1.  4.  1.]\n",
      " [ 8. 10.  8.  9.  5.]\n",
      " [ 6.  9.  3.  7.  1.]\n",
      " [ 2.  7.  6.  2.  4.]]\n",
      "truncating method: \n",
      " [[5. 6. 6. 6. 8.]\n",
      " [8. 2. 0. 3. 0.]\n",
      " [7. 9. 7. 8. 4.]\n",
      " [5. 8. 2. 6. 0.]\n",
      " [1. 6. 5. 1. 3.]]\n"
     ]
    }
   ],
   "source": [
    "#36. Extract the integer part of a random array of positive numbers using 4 different methods (★★☆)\n",
    "\n",
    "arr = np.random.uniform(0,10,(5,5))\n",
    "print(f'Original array:\\n',arr)\n",
    "\n",
    "method1 = np.floor(arr)\n",
    "method2 = np.ceil(arr)\n",
    "method3 = np.trunc(arr)\n",
    "\n",
    "print('floor method: \\n ',method1)\n",
    "print('ceiling method: \\n', method2)\n",
    "print('truncating method: \\n',method3)\n"
   ]
  },
  {
   "cell_type": "code",
   "execution_count": null,
   "metadata": {},
   "outputs": [
    {
     "name": "stdout",
     "output_type": "stream",
     "text": [
      "original array: [0 1 2 3 4]\n",
      "matrix: \n",
      " [[0 1 2 3 4]\n",
      " [0 1 2 3 4]\n",
      " [0 1 2 3 4]\n",
      " [0 1 2 3 4]\n",
      " [0 1 2 3 4]]\n"
     ]
    }
   ],
   "source": [
    "#37. Create a 5x5 matrix with row values ranging from 0 to 4 (★★☆)\n",
    " \n",
    "\n",
    "arr = np.arange(5)\n",
    "arr2 = np.tile(arr,(5,1))\n",
    "print('original array:', arr)\n",
    "print('matrix: \\n', arr2)"
   ]
  },
  {
   "cell_type": "code",
   "execution_count": 37,
   "metadata": {},
   "outputs": [
    {
     "name": "stdout",
     "output_type": "stream",
     "text": [
      "[ 6 10 17  7 11  5  7  4  7 12]\n"
     ]
    }
   ],
   "source": [
    "#38. Consider a generator function that generates 10 integers and use it to build an array (★☆☆)\n",
    "\n",
    "def generate():\n",
    "    array = np.random.randint(1,20,10)\n",
    "    return array\n",
    "\n",
    "print(generate())"
   ]
  },
  {
   "cell_type": "code",
   "execution_count": 38,
   "metadata": {},
   "outputs": [
    {
     "name": "stdout",
     "output_type": "stream",
     "text": [
      "[0.         0.09090909 0.18181818 0.27272727 0.36363636 0.45454545\n",
      " 0.54545455 0.63636364 0.72727273 0.81818182 0.90909091 1.        ]\n",
      "(<module 'numpy' from 'c:\\\\Users\\\\Kathleen\\\\Desktop\\\\datavisualization\\\\datavis\\\\Lib\\\\site-packages\\\\numpy\\\\__init__.py'>, array([0.09090909, 0.18181818, 0.27272727, 0.36363636, 0.45454545,\n",
      "       0.54545455, 0.63636364, 0.72727273, 0.81818182, 0.90909091]))\n"
     ]
    }
   ],
   "source": [
    "#39. Create a vector of size 10 with values ranging from 0 to 1, both excluded (★★☆)\n",
    " \n",
    "arr = np.linspace(0,1,12,endpoint=True)\n",
    "print(arr)\n",
    "arr[1:-1]\n",
    "\n",
    "arr = np,linspace(0,1,11,endpoint=False)[1:]\n",
    "print(arr)"
   ]
  },
  {
   "cell_type": "code",
   "execution_count": null,
   "metadata": {},
   "outputs": [
    {
     "name": "stdout",
     "output_type": "stream",
     "text": [
      "[0.05207188 0.0662461  0.40015595 0.54338231 0.69741788 0.80981452\n",
      " 0.87573071 0.88528566 0.93202179 0.98732838]\n"
     ]
    }
   ],
   "source": [
    "#40. Create a random vector of size 10 and sort it (★★☆)\n",
    " \n",
    "arr = np.random.random(10)\n",
    "sorted_arr =np.sort(arr)\n",
    "print(sorted_arr)"
   ]
  },
  {
   "cell_type": "code",
   "execution_count": null,
   "metadata": {},
   "outputs": [
    {
     "name": "stdout",
     "output_type": "stream",
     "text": [
      "15 : 0.0\n",
      "15 : 0.0\n"
     ]
    }
   ],
   "source": [
    "#41. How to sum a small array faster than np.sum? (★★☆)\n",
    " \n",
    "import time\n",
    "\n",
    "arr = np.array([1,2,3,4,5])\n",
    "#using np.sum\n",
    "starttime= time.time()\n",
    "output = np.sum(arr)\n",
    "endtime = time.time()\n",
    "tt = endtime - starttime\n",
    "print(f'{output} : {tt}')\n",
    "\n",
    "#using np.add.reduce\n",
    "starttime = time.time()\n",
    "output = np.add.reduce(arr)\n",
    "endtime = time.time()\n",
    "tt = endtime - starttime\n",
    "print(f'{output} : {tt}')\n"
   ]
  },
  {
   "cell_type": "code",
   "execution_count": null,
   "metadata": {},
   "outputs": [
    {
     "name": "stdout",
     "output_type": "stream",
     "text": [
      "False\n"
     ]
    }
   ],
   "source": [
    "#42. Consider two random array A and B, check if they are equal (★★☆)\n",
    "A = np.random.random(10)\n",
    "B = np.random.random(10)\n",
    "\n",
    "equal = np.array_equal(A,B)\n",
    "print(equal)"
   ]
  },
  {
   "cell_type": "code",
   "execution_count": null,
   "metadata": {},
   "outputs": [
    {
     "name": "stdout",
     "output_type": "stream",
     "text": [
      "[0. 0. 0. 0. 0. 0. 0. 0. 0. 0.]\n"
     ]
    }
   ],
   "source": [
    "#43. Make an array immutable (read-only) (★★☆)\n",
    " \n",
    "arr = np.zeros(10)\n",
    "arr.flags.writeable = False\n",
    "print(arr)"
   ]
  },
  {
   "cell_type": "code",
   "execution_count": 39,
   "metadata": {},
   "outputs": [
    {
     "ename": "TypeError",
     "evalue": "column_stack() takes 1 positional argument but 2 were given",
     "output_type": "error",
     "traceback": [
      "\u001b[1;31m---------------------------------------------------------------------------\u001b[0m",
      "\u001b[1;31mTypeError\u001b[0m                                 Traceback (most recent call last)",
      "Cell \u001b[1;32mIn[39], line 12\u001b[0m\n\u001b[0;32m      8\u001b[0m r \u001b[38;5;241m=\u001b[39m np\u001b[38;5;241m.\u001b[39msqrt(x\u001b[38;5;241m*\u001b[39m\u001b[38;5;241m*\u001b[39m\u001b[38;5;241m2\u001b[39m \u001b[38;5;241m+\u001b[39m y\u001b[38;5;241m*\u001b[39m\u001b[38;5;241m*\u001b[39m\u001b[38;5;241m2\u001b[39m)\n\u001b[0;32m     10\u001b[0m theta \u001b[38;5;241m=\u001b[39m np\u001b[38;5;241m.\u001b[39marctan2(y,x)\n\u001b[1;32m---> 12\u001b[0m polar_coordinates \u001b[38;5;241m=\u001b[39m \u001b[43mnp\u001b[49m\u001b[38;5;241;43m.\u001b[39;49m\u001b[43mcolumn_stack\u001b[49m\u001b[43m(\u001b[49m\u001b[43mr\u001b[49m\u001b[43m,\u001b[49m\u001b[43mtheta\u001b[49m\u001b[43m)\u001b[49m\n\u001b[0;32m     14\u001b[0m \u001b[38;5;28mprint\u001b[39m(\u001b[38;5;124m'\u001b[39m\u001b[38;5;124mCartesian Coordinates:\u001b[39m\u001b[38;5;130;01m\\n\u001b[39;00m\u001b[38;5;124m'\u001b[39m,cartesian_plane)\n\u001b[0;32m     15\u001b[0m \u001b[38;5;28mprint\u001b[39m(\u001b[38;5;124m'\u001b[39m\u001b[38;5;124mPolar Coordinates: \u001b[39m\u001b[38;5;130;01m\\n\u001b[39;00m\u001b[38;5;124m'\u001b[39m, polar_coordinates)\n",
      "\u001b[1;31mTypeError\u001b[0m: column_stack() takes 1 positional argument but 2 were given"
     ]
    }
   ],
   "source": [
    "#44. Consider a random 10x2 matrix representing cartesian coordinates, convert them to polar coordinates (★★☆)\n",
    " \n",
    "cartesian_plane = np.random.rand(10,2)\n",
    "\n",
    "x = cartesian_plane[:,0]\n",
    "y = cartesian_plane[:,1]\n",
    "\n",
    "r = np.sqrt(x**2 + y**2)\n",
    "\n",
    "theta = np.arctan2(y,x)\n",
    "\n",
    "polar_coordinates = np.column_stack(r,theta)\n",
    "\n",
    "print('Cartesian Coordinates:\\n',cartesian_plane)\n",
    "print('Polar Coordinates: \\n', polar_coordinates)\n"
   ]
  },
  {
   "cell_type": "code",
   "execution_count": 42,
   "metadata": {},
   "outputs": [
    {
     "name": "stdout",
     "output_type": "stream",
     "text": [
      "[4 7 8 6 8 9 7 4 7 2]\n"
     ]
    }
   ],
   "source": [
    "#45. Create random vector of size 10 and replace the maximum value by 0 (★★☆)\n",
    "\n",
    "arr = np.random.randint(1,10,10)\n",
    "z = np.argmax(arr)\n",
    "z = 0\n",
    "print(arr)\n"
   ]
  },
  {
   "cell_type": "markdown",
   "metadata": {},
   "source": []
  },
  {
   "cell_type": "markdown",
   "metadata": {},
   "source": [
    "61. Find the nearest value from a given value in an array (★★☆)\n",
    " \n",
    "62. Considering two arrays with shape (1,3) and (3,1), how to compute their sum using an iterator? (★★☆)\n",
    " \n",
    "63. Create an array class that has a name attribute (★★☆)\n",
    " \n",
    "64. Consider a given vector, how to add 1 to each element indexed by a second vector (be careful with repeated indices)? (★★★)\n",
    "65. How to accumulate elements of a vector (X) to an array (F) based on an index list (I)? (★★★)\n",
    " \n",
    "66. Considering a (w,h,3) image of (dtype=ubyte), compute the number of unique colors (★★☆)\n",
    " \n",
    "67. Considering a four dimensions array, how to get sum over the last two axis at once? (★★★)\n",
    " \n",
    "68. Considering a one-dimensional vector D, how to compute means of subsets of D using a vector S of same size describing subset indices? (★★★)\n",
    " \n",
    "69. How to get the diagonal of a dot product? (★★★)\n",
    "\n",
    "70. Consider the vector [1, 2, 3, 4, 5], how to build a new vector with 3 consecutive zeros interleaved between each value? (★★★)\n",
    " \n",
    "71. Consider an array of dimension (5,5,3), how to mulitply it by an array with dimensions (5,5)? (★★★)\n",
    " \n",
    "72. How to swap two rows of an array? (★★★)\n",
    " \n",
    "73. Consider a set of 10 triplets describing 10 triangles (with shared vertices), find the set of unique line segments composing all the triangles (★★★)\n",
    " \n",
    "74. Given a sorted array C that corresponds to a bincount, how to produce an array A such that np.bincount(A) == C? (★★★)\n",
    "\n",
    "75. How to compute averages using a sliding window over an array? (★★★)\n",
    " \n",
    "76. Consider a one-dimensional array Z, build a two-dimensional array whose first row is (Z[0],Z[1],Z[2]) and each subsequent row is shifted by 1 (last row should be (Z[-3],Z[-2],Z[-1]) (★★★)\n",
    " \n",
    "77. How to negate a boolean, or to change the sign of a float inplace? (★★★)\n",
    " \n",
    "78. Consider 2 sets of points P0,P1 describing lines (2d) and a point p, how to compute distance from p to each line i (P0[i],P1[i])? (★★★)\n",
    "79. Consider 2 sets of points P0,P1 describing lines (2d) and a set of points P, how to compute distance from each point j (P[j]) to each line i (P0[i],P1[i])? (★★★)\n",
    " \n",
    "80. Consider an arbitrary array, write a function that extract a subpart with a fixed shape and centered on a given element (pad with a fill value when necessary) (★★★)\n",
    " \n",
    "81. Consider an array Z = [1,2,3,4,5,6,7,8,9,10,11,12,13,14], how to generate an array R = [[1,2,3,4], [2,3,4,5], [3,4,5,6], ..., [11,12,13,14]]? (★★★)\n",
    " \n",
    "82. Compute a matrix rank (★★★)\n",
    "\n",
    "83. How to find the most frequent value in an array?\n",
    " \n",
    "84. Extract all the contiguous 3x3 blocks from a random 10x10 matrix (★★★)\n",
    " \n",
    "85. Create a 2D array subclass such that Z[i,j] == Z[j,i] (★★★)\n",
    " \n",
    "86. Consider a set of p matrices wich shape (n,n) and a set of p vectors with shape (n,1). How to compute the sum of of the p matrix products at once? (result has shape (n,1)) (★★★)\n",
    " \n",
    "87. Consider a 16x16 array, how to get the block-sum (block size is 4x4)? (★★★)\n",
    "\n",
    "88. How to implement the Game of Life using numpy arrays? (★★★)\n",
    " \n",
    "89. How to get the n largest values of an array (★★★)\n",
    " \n",
    "90. Given an arbitrary number of vectors, build the cartesian product (every combinations of every item) (★★★)\n",
    " \n",
    "91. How to create a record array from a regular array? (★★★)\n",
    " \n",
    "92. Consider a large vector Z, compute Z to the power of 3 using 3 different methods (★★★)\n",
    "\n",
    "93. Consider two arrays A and B of shape (8,3) and (2,2). How to find rows of A that contain elements of each row of B regardless of the order of the elements in B? (★★★)\n",
    " \n",
    "94. Considering a 10x3 matrix, extract rows with unequal values (e.g. [2,2,3]) (★★★)\n",
    " \n",
    "95. Convert a vector of ints into a matrix binary representation (★★★)\n",
    " \n",
    "96. Given a two dimensional array, how to extract unique rows? (★★★)\n",
    " \n",
    "97. Considering 2 vectors A & B, write the einsum equivalent of inner, outer, sum, and mul function (★★★)\n",
    "\n",
    "98. Considering a path described by two vectors (X,Y), how to sample it using equidistant samples (★★★)?\n",
    " \n",
    "99. Given an integer n and a 2D array X, select from X the rows which can be interpreted as draws from a multinomial distribution with n degrees, i.e., the rows which only contain integers and which sum to n. (★★★)\n",
    " \n",
    "100. Compute bootstrapped 95% confidence intervals for the mean of a 1D array X (i.e., resample the elements of an array with replacement N times, compute the mean of each sample, and then compute percentiles over the means). (★★★)\n",
    " "
   ]
  },
  {
   "cell_type": "code",
   "execution_count": 46,
   "metadata": {},
   "outputs": [
    {
     "name": "stdout",
     "output_type": "stream",
     "text": [
      "[[ 10.63013206   4.9568667   11.1746069  -12.83023641]\n",
      " [  5.59274379  -2.3906664   -8.90109288   9.09352374]\n",
      " [  6.07801752   6.51272656  13.45972935  -3.97707632]]\n",
      "nearest value: 5\n"
     ]
    }
   ],
   "source": [
    "#61. Find the nearest value from a given value in an array (★★☆)\n",
    "import numpy as np\n",
    "\n",
    "arr = np.random.normal(5,10,(3,4))\n",
    "print(arr)\n",
    "value = 0.5\n",
    "nearest_value = np.abs(arr-value).argmin()\n",
    "print('nearest value:',nearest_value)"
   ]
  },
  {
   "cell_type": "code",
   "execution_count": 48,
   "metadata": {},
   "outputs": [
    {
     "ename": "ValueError",
     "evalue": "Iterator global flags must be a list or tuple of strings",
     "output_type": "error",
     "traceback": [
      "\u001b[1;31m---------------------------------------------------------------------------\u001b[0m",
      "\u001b[1;31mValueError\u001b[0m                                Traceback (most recent call last)",
      "Cell \u001b[1;32mIn[48], line 7\u001b[0m\n\u001b[0;32m      4\u001b[0m arr1 \u001b[38;5;241m=\u001b[39m np\u001b[38;5;241m.\u001b[39mrandom\u001b[38;5;241m.\u001b[39mrandint(\u001b[38;5;241m10\u001b[39m,\u001b[38;5;241m50\u001b[39m,size\u001b[38;5;241m=\u001b[39m(\u001b[38;5;241m1\u001b[39m,\u001b[38;5;241m3\u001b[39m))\n\u001b[0;32m      5\u001b[0m arr2 \u001b[38;5;241m=\u001b[39m np\u001b[38;5;241m.\u001b[39mrandom\u001b[38;5;241m.\u001b[39mrandint(\u001b[38;5;241m10\u001b[39m,\u001b[38;5;241m50\u001b[39m,size\u001b[38;5;241m=\u001b[39m(\u001b[38;5;241m3\u001b[39m,\u001b[38;5;241m1\u001b[39m))\n\u001b[1;32m----> 7\u001b[0m iterator\u001b[38;5;241m=\u001b[39m\u001b[43mnp\u001b[49m\u001b[38;5;241;43m.\u001b[39;49m\u001b[43mnditer\u001b[49m\u001b[43m(\u001b[49m\u001b[43marr1\u001b[49m\u001b[43m,\u001b[49m\u001b[43marr2\u001b[49m\u001b[43m,\u001b[49m\u001b[38;5;28;43;01mNone\u001b[39;49;00m\u001b[43m)\u001b[49m\n\u001b[0;32m      9\u001b[0m \u001b[38;5;28;01mfor\u001b[39;00m a,b,c \u001b[38;5;129;01min\u001b[39;00m iterator:\n\u001b[0;32m     10\u001b[0m     c[\u001b[38;5;241m.\u001b[39m\u001b[38;5;241m.\u001b[39m\u001b[38;5;241m.\u001b[39m]\u001b[38;5;241m=\u001b[39ma\u001b[38;5;241m+\u001b[39mb\n",
      "\u001b[1;31mValueError\u001b[0m: Iterator global flags must be a list or tuple of strings"
     ]
    }
   ],
   "source": [
    "#62. Considering two arrays with shape (1,3) and (3,1), \n",
    "# how to compute their sum using an iterator? (★★☆)\n",
    "\n",
    "arr1 = np.random.randint(10,50,size=(1,3))\n",
    "arr2 = np.random.randint(10,50,size=(3,1))\n",
    "\n",
    "iterator=np.nditer(arr1,arr2,None)\n",
    "\n",
    "for a,b,c in iterator:\n",
    "    c[...]=a+b\n",
    "\n",
    "iterator.operands[2]\n",
    "\n",
    "\n"
   ]
  },
  {
   "cell_type": "code",
   "execution_count": 49,
   "metadata": {},
   "outputs": [
    {
     "data": {
      "text/plain": [
       "'custom_array'"
      ]
     },
     "execution_count": 49,
     "metadata": {},
     "output_type": "execute_result"
    }
   ],
   "source": [
    "#63. Create an array class that has a name attribute (★★☆)\n",
    "\n",
    "\n",
    "\n",
    "class Arr(np.ndarray):\n",
    "    def __new__(cls,array,name='no name'):\n",
    "        obj = np.asarray(array).view(cls)\n",
    "        obj.name = name\n",
    "        return obj\n",
    "    def array_finalize(self,obj):\n",
    "        if obj is None: return\n",
    "        self.name = getattr(obj,'name','no name')\n",
    "\n",
    "\n",
    "a = Arr(np.arange(10),'custom_array')\n",
    "a.name"
   ]
  },
  {
   "cell_type": "code",
   "execution_count": null,
   "metadata": {},
   "outputs": [
    {
     "name": "stdout",
     "output_type": "stream",
     "text": [
      "[2 4 5 6 5 6 7]\n"
     ]
    }
   ],
   "source": [
    "#64. Consider a given vector, \n",
    "# how to add 1 to each element indexed by a second vector (be careful with repeated indices)?\n",
    "#  (★★★)\n",
    "\n",
    "vector1 = np.array([1,2,3,4,5,6,7])\n",
    "indices = np.array([0,1,1,2,2,3,3])\n",
    "\n",
    "np.add.at(vector1,indices,1)\n",
    "\n",
    "print(vector1)\n",
    "\n"
   ]
  },
  {
   "cell_type": "code",
   "execution_count": null,
   "metadata": {},
   "outputs": [
    {
     "name": "stdout",
     "output_type": "stream",
     "text": [
      "[0. 1. 5. 9. 6.]\n"
     ]
    }
   ],
   "source": [
    "#65. How to accumulate elements of a vector (X) to an array (F) based on an index list (I)? (★★★)\n",
    "\n",
    "X = np.array([1,2,3,4,5,6])\n",
    "I = np.array([1,2,2,3,3,4])\n",
    "F= np.zeros(5)\n",
    "\n",
    "np.add.at(F,I,X)\n",
    "\n",
    "print(F)"
   ]
  },
  {
   "cell_type": "code",
   "execution_count": null,
   "metadata": {},
   "outputs": [
    {
     "name": "stdout",
     "output_type": "stream",
     "text": [
      "The number of unique numbers: 49\n"
     ]
    }
   ],
   "source": [
    "#66. Considering a (w,h,3) image of (dtype=ubyte), compute the number of unique colors (★★☆)\n",
    "\n",
    "w,h = (7,7)\n",
    "\n",
    "image =np.random.randint(0,256,size=(w,h,3),dtype=np.uint8)\n",
    "reshaped_image = np.reshape(image,(-1,3))\n",
    "unique = np.unique(reshaped_image,axis=0)\n",
    "unique_num = np.shape(unique)[0]\n",
    "\n",
    "print(f'The number of unique numbers:',unique_num)\n",
    "\n"
   ]
  },
  {
   "cell_type": "code",
   "execution_count": null,
   "metadata": {},
   "outputs": [],
   "source": [
    "w,h = 256,256\n",
    "image =np.random.randint (0,4,(h,w,3)).astype(np.ubyte)\n",
    "\n",
    "reshaped_image= image.reshape(-1,3)\n",
    "len(np.unique(reshaped_image,axis =0))"
   ]
  },
  {
   "cell_type": "code",
   "execution_count": null,
   "metadata": {},
   "outputs": [
    {
     "name": "stdout",
     "output_type": "stream",
     "text": [
      "array:\n",
      " [[[[0.75644633 0.5351094  0.9544045  0.37980908 0.76364838]\n",
      "   [0.19722623 0.28517139 0.82801435 0.89881302 0.78746703]\n",
      "   [0.85615435 0.16780454 0.18974018 0.19706667 0.89331812]\n",
      "   [0.05472552 0.61931769 0.08239199 0.48461316 0.26449928]]\n",
      "\n",
      "  [[0.76662445 0.19732197 0.68882845 0.14661621 0.93245473]\n",
      "   [0.36394818 0.23650763 0.54726623 0.04968114 0.20887283]\n",
      "   [0.21055748 0.94915176 0.26959436 0.22591103 0.23465347]\n",
      "   [0.67586275 0.25202246 0.97858724 0.57485148 0.34947894]]\n",
      "\n",
      "  [[0.79560153 0.52103868 0.31983914 0.02140889 0.08534074]\n",
      "   [0.00421086 0.46966471 0.27665504 0.4864604  0.81064817]\n",
      "   [0.3642944  0.56968    0.19473318 0.10645251 0.22649505]\n",
      "   [0.36853292 0.84557279 0.02424921 0.80655386 0.62779332]]]\n",
      "\n",
      "\n",
      " [[[0.56769202 0.81785268 0.95528696 0.31493455 0.84678839]\n",
      "   [0.36850418 0.13344275 0.22374602 0.51789887 0.84009034]\n",
      "   [0.45326015 0.64103128 0.31155683 0.17748171 0.53909435]\n",
      "   [0.64082054 0.01304775 0.04210688 0.21675338 0.50794078]]\n",
      "\n",
      "  [[0.15107993 0.39895762 0.23593946 0.68318306 0.64242074]\n",
      "   [0.34878456 0.94695572 0.96851534 0.50550627 0.55898058]\n",
      "   [0.77493853 0.96693596 0.20394298 0.29531155 0.31000873]\n",
      "   [0.60564526 0.00338987 0.4606503  0.13548183 0.21175762]]\n",
      "\n",
      "  [[0.96302416 0.6214513  0.87256042 0.25058666 0.65863855]\n",
      "   [0.92966509 0.45601585 0.39811226 0.43613449 0.69574353]\n",
      "   [0.90999694 0.11227177 0.02414583 0.71655364 0.88714705]\n",
      "   [0.53239575 0.40007596 0.62363478 0.24786857 0.85167617]]]]\n",
      "sum \n",
      " [[10.19574122  8.85879279  7.92522539]\n",
      " [ 9.12933039  9.40838592 11.58769876]]\n"
     ]
    }
   ],
   "source": [
    "#67. Considering a four dimensions array, how to get sum over the last two axis at once? (★★★)\n",
    "\n",
    "arr_4d = np.random.rand(2,3,4,5)\n",
    "\n",
    "sum_of_arr_4d=np.sum(arr_4d,axis=(-2,-1))\n",
    "\n",
    "print('array:\\n' ,arr_4d)\n",
    "print('sum \\n',sum_of_arr_4d)\n"
   ]
  },
  {
   "cell_type": "code",
   "execution_count": null,
   "metadata": {},
   "outputs": [
    {
     "name": "stdout",
     "output_type": "stream",
     "text": [
      "[4. 4.]\n"
     ]
    }
   ],
   "source": [
    "#68. Considering a one-dimensional vector D, \n",
    "# how to compute means of subsets of D using a vector S of same size describing subset indices? (★★★)\n",
    "\n",
    "import numpy as np\n",
    "\n",
    "D = np.array([1,2,3,4,5,6,7])\n",
    "S = np.array([1,0,1,0,1,0,1])\n",
    "\n",
    "unique_indices = np.unique(S)\n",
    "\n",
    "sums = np.zeros_like(unique_indices,dtype=np.float64)\n",
    "counts = np.zeros_like(unique_indices,dtype=np.int32)\n",
    "\n",
    "np.add.at(sums,S,D)\n",
    "np.add.at(counts,S,1)\n",
    "\n",
    "means = sums/counts\n",
    "\n",
    "print(means)\n",
    "\n",
    "\n"
   ]
  },
  {
   "cell_type": "code",
   "execution_count": null,
   "metadata": {},
   "outputs": [
    {
     "name": "stdout",
     "output_type": "stream",
     "text": [
      "[4 2]\n"
     ]
    }
   ],
   "source": [
    "#69. How to get the diagonal of a dot product? (★★★)\n",
    "\n",
    "a = [[1,0],[0,1]]\n",
    "b = [[4,1],[2,2]]\n",
    "\n",
    "arr = np.dot(a,b)\n",
    "\n",
    "c = np.diag(arr)\n",
    "print(c)"
   ]
  },
  {
   "cell_type": "code",
   "execution_count": 29,
   "metadata": {},
   "outputs": [
    {
     "name": "stdout",
     "output_type": "stream",
     "text": [
      "Original vector: [1 2 3 4 5]\n",
      "new vector: [1 0 0 0 2 0 0 0 3 0 0 0 4 0 0 0 5]\n"
     ]
    }
   ],
   "source": [
    "#70. Consider the vector [1, 2, 3, 4, 5],\n",
    "#  how to build a new vector with 3 consecutive zeros \n",
    "# interleaved between each value? (★★★)\n",
    "\n",
    "original_vector = np.array([1,2,3,4,5])\n",
    "\n",
    "zeros = 3\n",
    "\n",
    "new_length = len(original_vector) + zeros*(len(original_vector)-1)\n",
    "\n",
    "new_vector = np.zeros(new_length,dtype=original_vector.dtype)\n",
    "\n",
    "new_vector[::zeros+1] = original_vector\n",
    "\n",
    "print(f'Original vector:',original_vector)\n",
    "print('new vector:',new_vector)"
   ]
  },
  {
   "cell_type": "code",
   "execution_count": 30,
   "metadata": {},
   "outputs": [
    {
     "name": "stdout",
     "output_type": "stream",
     "text": [
      "3D Array:\n",
      " [[[0.88601832 0.18426565 0.77518847]\n",
      "  [0.01851257 0.83900043 0.28864764]\n",
      "  [0.93921678 0.09225456 0.98165307]\n",
      "  [0.00493151 0.91697318 0.19154075]\n",
      "  [0.11280841 0.28009013 0.09177059]]\n",
      "\n",
      " [[0.49027762 0.78859545 0.98866539]\n",
      "  [0.36597639 0.67016122 0.61483462]\n",
      "  [0.81938408 0.81116455 0.89578011]\n",
      "  [0.00560556 0.23155973 0.88363314]\n",
      "  [0.22885918 0.75678651 0.0396149 ]]\n",
      "\n",
      " [[0.77956832 0.58431902 0.80015058]\n",
      "  [0.79941852 0.00509555 0.56485105]\n",
      "  [0.64647361 0.10783146 0.77395849]\n",
      "  [0.84033889 0.33735016 0.93957607]\n",
      "  [0.7574602  0.14397325 0.46426511]]\n",
      "\n",
      " [[0.14869849 0.44737425 0.0561803 ]\n",
      "  [0.25953264 0.21534485 0.9653302 ]\n",
      "  [0.63004118 0.33130794 0.60575428]\n",
      "  [0.43609933 0.56128523 0.76385639]\n",
      "  [0.02003993 0.63462477 0.00703516]]\n",
      "\n",
      " [[0.35109759 0.778888   0.98744671]\n",
      "  [0.14743326 0.99514794 0.20870256]\n",
      "  [0.45151337 0.99786708 0.84968354]\n",
      "  [0.34663032 0.10608946 0.93732098]\n",
      "  [0.8812091  0.42489746 0.61725831]]]\n",
      "2D Array:\n",
      " [[0.32919927 0.93268593 0.87360037 0.35790115 0.82026994]\n",
      " [0.96049869 0.78392002 0.55064346 0.19789586 0.4351473 ]\n",
      " [0.51778983 0.72120547 0.41200709 0.81832319 0.06834196]\n",
      " [0.81297487 0.83792601 0.52864701 0.14240526 0.10973784]\n",
      " [0.30965418 0.65226833 0.45075181 0.37999832 0.120022  ]]\n",
      "Multplication result:\n",
      " [[[2.91676580e-01 6.06601176e-02 2.55191477e-01]\n",
      "  [1.72664122e-02 7.82523899e-01 2.69217597e-01]\n",
      "  [8.20500127e-01 8.05936163e-02 8.57572484e-01]\n",
      "  [1.76499268e-03 3.28185752e-01 6.85526557e-02]\n",
      "  [9.25333478e-02 2.29749511e-01 7.52766568e-02]]\n",
      "\n",
      " [[4.70911009e-01 7.57444894e-01 9.49611813e-01]\n",
      "  [2.86896218e-01 5.25352803e-01 4.81981167e-01]\n",
      "  [4.51188485e-01 4.46662453e-01 4.93255458e-01]\n",
      "  [1.10931789e-03 4.58247128e-02 1.74867341e-01]\n",
      "  [9.95874538e-02 3.29313607e-01 1.72383181e-02]]\n",
      "\n",
      " [[4.03652554e-01 3.02554447e-01 4.14309838e-01]\n",
      "  [5.76545006e-01 3.67493925e-03 4.07373661e-01]\n",
      "  [2.66351709e-01 4.44273278e-02 3.18876385e-01]\n",
      "  [6.87668807e-01 2.76061462e-01 7.68876895e-01]\n",
      "  [5.17663158e-02 9.83941400e-03 3.17287882e-02]]\n",
      "\n",
      " [[1.20888139e-01 3.63704023e-01 4.56731739e-02]\n",
      "  [2.17469152e-01 1.80443052e-01 8.08875289e-01]\n",
      "  [3.33069388e-01 1.75144951e-01 3.20230191e-01]\n",
      "  [6.21028398e-02 7.99299698e-02 1.08777169e-01]\n",
      "  [2.19913825e-03 6.96423533e-02 7.72023202e-04]]\n",
      "\n",
      " [[1.08718838e-01 2.41185927e-01 3.05767002e-01]\n",
      "  [9.61660464e-02 6.49103481e-01 1.36130068e-01]\n",
      "  [2.03520471e-01 4.49790391e-01 3.82996394e-01]\n",
      "  [1.31718939e-01 4.03138178e-02 3.56180399e-01]\n",
      "  [1.05764477e-01 5.09970423e-02 7.40845756e-02]]]\n"
     ]
    }
   ],
   "source": [
    "#71. Consider an array of dimension (5,5,3), how to mulitply it by an array with dimensions (5,5)? (★★★)\n",
    "\n",
    "arr1 = np.random.random((5,5,3))\n",
    "arr2 = np.random.random((5,5))\n",
    "\n",
    "result = arr1*arr2[:,:,np.newaxis]\n",
    "\n",
    "print('3D Array:\\n',arr1)\n",
    "print('2D Array:\\n',arr2)\n",
    "print('Multplication result:\\n',result)"
   ]
  },
  {
   "cell_type": "code",
   "execution_count": 31,
   "metadata": {},
   "outputs": [
    {
     "name": "stdout",
     "output_type": "stream",
     "text": [
      "[[1 2 3]\n",
      " [4 5 6]\n",
      " [7 8 9]]\n",
      "[[7 8 9]\n",
      " [4 5 6]\n",
      " [1 2 3]]\n"
     ]
    }
   ],
   "source": [
    "#72. How to swap two rows of an array? (★★★)\n",
    "arrays = np.array([[1,2,3],\n",
    "                   [4,5,6],\n",
    "                   [7,8,9]])\n",
    "print(arrays)\n",
    "\n",
    "arrays[[0,2]] = arrays[[2,0]]\n",
    "print(arrays)\n"
   ]
  },
  {
   "cell_type": "code",
   "execution_count": null,
   "metadata": {},
   "outputs": [],
   "source": [
    "#73. Consider a set of 10 triplets describing 10 triangles (with shared vertices), find the set of unique line segments composing all the triangles (★★★)\n"
   ]
  },
  {
   "cell_type": "code",
   "execution_count": 33,
   "metadata": {},
   "outputs": [
    {
     "name": "stdout",
     "output_type": "stream",
     "text": [
      "Bincount array:\n",
      " [1 2 3 4 5]\n",
      "Resultant array\n",
      " [0 1 1 2 2 2 3 3 3 3 4 4 4 4 4]\n",
      "Bincount:\n",
      " [1 2 3 4 5]\n"
     ]
    }
   ],
   "source": [
    "#74. Given a sorted array C that corresponds to a bincount, how to produce an array A such that np.bincount(A) == C? (★★★)\n",
    "arr1 = np.array([1,2,3,4,5])\n",
    "\n",
    "arr2 = np.repeat(np.arange(len(arr1)),arr1)\n",
    "\n",
    "print('Bincount array:\\n',arr1)\n",
    "print('Resultant array\\n',arr2)\n",
    "print('Bincount:\\n',np.bincount(arr2))\n",
    "\n",
    "\n"
   ]
  },
  {
   "cell_type": "code",
   "execution_count": 34,
   "metadata": {},
   "outputs": [
    {
     "name": "stdout",
     "output_type": "stream",
     "text": [
      "[ 1  2  3  4  5  6  7  8  9 10]\n",
      "[2. 3. 4. 5. 6. 7. 8. 9.]\n"
     ]
    }
   ],
   "source": [
    "#75. How to compute averages using a sliding window over an array? (★★★)\n",
    "\n",
    "arr = np.array([1,2,3,4,5,6,7,8,9,10])\n",
    "window_size = 3\n",
    "\n",
    "def sliding_window_avg(array,window_size):\n",
    "    window = np.ones(window_size)/window_size\n",
    "    return np.convolve(array,window,mode='valid')\n",
    "\n",
    "averages = sliding_window_avg(arr,window_size)\n",
    "print(arr)\n",
    "print(averages)"
   ]
  },
  {
   "cell_type": "code",
   "execution_count": 36,
   "metadata": {},
   "outputs": [
    {
     "name": "stdout",
     "output_type": "stream",
     "text": [
      "Original array:\n",
      " [1 2 3 4 5 6 7 8 9]\n",
      "Shifted array:\n",
      " [[1 2 3]\n",
      " [2 3 4]\n",
      " [3 4 5]\n",
      " [4 5 6]\n",
      " [5 6 7]\n",
      " [6 7 8]\n",
      " [7 8 9]]\n"
     ]
    }
   ],
   "source": [
    "#76. Consider a one-dimensional array Z, build a two-dimensional array whose first row is (Z[0],Z[1],Z[2]) and each subsequent row is shifted by 1 (last row should be (Z[-3],Z[-2],Z[-1]) (★★★)\n",
    "\n",
    "arr = np.array([1,2,3,4,5,6,7,8,9])\n",
    "\n",
    "def build_shifted_array(arr,num_shifts):\n",
    "    n = len(arr)\n",
    "    return np.array([arr[i:i+num_shifts] for i in range(n - num_shifts +1)])\n",
    "\n",
    "num_shifts = 3\n",
    "shifted_arr = build_shifted_array(arr,num_shifts)\n",
    "\n",
    "print('Original array:\\n',arr)\n",
    "print('Shifted array:\\n',shifted_arr)\n"
   ]
  },
  {
   "cell_type": "code",
   "execution_count": 37,
   "metadata": {},
   "outputs": [
    {
     "name": "stdout",
     "output_type": "stream",
     "text": [
      "False\n",
      "-3.14\n"
     ]
    }
   ],
   "source": [
    "#77. How to negate a boolean, or to change the sign of a float inplace? (★★★)\n",
    "\n",
    "boolean_value = True\n",
    "boolean_value = not boolean_value\n",
    "print(boolean_value)\n",
    "\n",
    "float_value = 3.14\n",
    "float_value = -float_value\n",
    "print(float_value)\n"
   ]
  },
  {
   "cell_type": "code",
   "execution_count": null,
   "metadata": {},
   "outputs": [],
   "source": [
    "#78. Consider 2 sets of points P0,P1 describing lines (2d) and a point p, how to compute distance from p to each line i (P0[i],P1[i])? (★★★)\n"
   ]
  },
  {
   "cell_type": "code",
   "execution_count": null,
   "metadata": {},
   "outputs": [],
   "source": [
    "#79. Consider 2 sets of points P0,P1 describing lines (2d) and a set of points P, how to compute distance from each point j (P[j]) to each line i (P0[i],P1[i])? (★★★)"
   ]
  },
  {
   "cell_type": "code",
   "execution_count": null,
   "metadata": {},
   "outputs": [],
   "source": [
    "#80. Consider an arbitrary array, write a function that extract a subpart with a fixed shape and centered on a given element (pad with a fill value when necessary) (★★★)"
   ]
  },
  {
   "cell_type": "code",
   "execution_count": 38,
   "metadata": {},
   "outputs": [
    {
     "name": "stdout",
     "output_type": "stream",
     "text": [
      "Arrray Z:\n",
      " [ 1  2  3  4  5  6  7  8  9 10 11 12 13 14]\n",
      "Array R:\n",
      " [[ 1  2  3  4]\n",
      " [ 2  3  4  5]\n",
      " [ 3  4  5  6]\n",
      " [ 4  5  6  7]\n",
      " [ 5  6  7  8]\n",
      " [ 6  7  8  9]\n",
      " [ 7  8  9 10]\n",
      " [ 8  9 10 11]\n",
      " [ 9 10 11 12]\n",
      " [10 11 12 13]\n",
      " [11 12 13 14]]\n"
     ]
    }
   ],
   "source": [
    "#81. Consider an array Z = [1,2,3,4,5,6,7,8,9,10,11,12,13,14], how to generate an array R = [[1,2,3,4], [2,3,4,5], [3,4,5,6], ..., [11,12,13,14]]? (★★★)\n",
    "Z = np.array([1,2,3,4,5,6,7,8,9,10,11,12,13,14,])\n",
    "\n",
    "def generate_subarrays(Z,subarray_length):\n",
    "    R=[Z[i:i+subarray_length] for i in range(len(Z) - subarray_length +1 )]\n",
    "    return np.array(R)\n",
    "\n",
    "subarray_length = 4\n",
    "R = generate_subarrays(Z, subarray_length)\n",
    "\n",
    "print('Arrray Z:\\n' ,Z)\n",
    "print('Array R:\\n',R)"
   ]
  },
  {
   "cell_type": "code",
   "execution_count": 39,
   "metadata": {},
   "outputs": [
    {
     "ename": "AttributeError",
     "evalue": "module 'numpy' has no attribute 'arrays'",
     "output_type": "error",
     "traceback": [
      "\u001b[1;31m---------------------------------------------------------------------------\u001b[0m",
      "\u001b[1;31mAttributeError\u001b[0m                            Traceback (most recent call last)",
      "Cell \u001b[1;32mIn[39], line 3\u001b[0m\n\u001b[0;32m      1\u001b[0m \u001b[38;5;66;03m#82. Compute a matrix rank (★★★)\u001b[39;00m\n\u001b[1;32m----> 3\u001b[0m arr \u001b[38;5;241m=\u001b[39m \u001b[43mnp\u001b[49m\u001b[38;5;241;43m.\u001b[39;49m\u001b[43marrays\u001b[49m([[\u001b[38;5;241m1\u001b[39m,\u001b[38;5;241m2\u001b[39m,\u001b[38;5;241m3\u001b[39m],\n\u001b[0;32m      4\u001b[0m                 [\u001b[38;5;241m4\u001b[39m,\u001b[38;5;241m5\u001b[39m,\u001b[38;5;241m6\u001b[39m],\n\u001b[0;32m      5\u001b[0m                 [\u001b[38;5;241m7\u001b[39m,\u001b[38;5;241m8\u001b[39m,\u001b[38;5;241m9\u001b[39m]])\n\u001b[0;32m      7\u001b[0m rank \u001b[38;5;241m=\u001b[39m np\u001b[38;5;241m.\u001b[39mlinalg\u001b[38;5;241m.\u001b[39mmatrix_rank(arr)\n\u001b[0;32m      9\u001b[0m \u001b[38;5;28mprint\u001b[39m(rank)\n",
      "File \u001b[1;32mc:\\Users\\Kathleen\\Desktop\\datavisualization\\datavis\\Lib\\site-packages\\numpy\\__init__.py:424\u001b[0m, in \u001b[0;36m__getattr__\u001b[1;34m(attr)\u001b[0m\n\u001b[0;32m    421\u001b[0m     \u001b[38;5;28;01mimport\u001b[39;00m \u001b[38;5;21;01mnumpy\u001b[39;00m\u001b[38;5;21;01m.\u001b[39;00m\u001b[38;5;21;01mchar\u001b[39;00m \u001b[38;5;28;01mas\u001b[39;00m \u001b[38;5;21;01mchar\u001b[39;00m\n\u001b[0;32m    422\u001b[0m     \u001b[38;5;28;01mreturn\u001b[39;00m char\u001b[38;5;241m.\u001b[39mchararray\n\u001b[1;32m--> 424\u001b[0m \u001b[38;5;28;01mraise\u001b[39;00m \u001b[38;5;167;01mAttributeError\u001b[39;00m(\u001b[38;5;124m\"\u001b[39m\u001b[38;5;124mmodule \u001b[39m\u001b[38;5;132;01m{!r}\u001b[39;00m\u001b[38;5;124m has no attribute \u001b[39m\u001b[38;5;124m\"\u001b[39m\n\u001b[0;32m    425\u001b[0m                      \u001b[38;5;124m\"\u001b[39m\u001b[38;5;132;01m{!r}\u001b[39;00m\u001b[38;5;124m\"\u001b[39m\u001b[38;5;241m.\u001b[39mformat(\u001b[38;5;18m__name__\u001b[39m, attr))\n",
      "\u001b[1;31mAttributeError\u001b[0m: module 'numpy' has no attribute 'arrays'"
     ]
    }
   ],
   "source": [
    "#82. Compute a matrix rank (★★★)\n",
    "\n",
    "arr = np.arrays([[1,2,3],\n",
    "                [4,5,6],\n",
    "                [7,8,9]])\n",
    "\n",
    "rank = np.linalg.matrix_rank(arr)\n",
    "\n",
    "print(rank)\n",
    "\n"
   ]
  },
  {
   "cell_type": "code",
   "execution_count": 40,
   "metadata": {},
   "outputs": [
    {
     "name": "stdout",
     "output_type": "stream",
     "text": [
      "2\n"
     ]
    }
   ],
   "source": [
    "#83. How to find the most frequent value in an array?\n",
    "\n",
    "arr = np.array([1,2,3,2,2,3,4,4,5,6,6])\n",
    "\n",
    "most_frequent_value = np.argmax(np.bincount(arr))\n",
    "\n",
    "print(most_frequent_value)"
   ]
  },
  {
   "cell_type": "code",
   "execution_count": 42,
   "metadata": {},
   "outputs": [
    {
     "data": {
      "text/plain": [
       "[array([[9, 1, 7],\n",
       "        [9, 7, 8],\n",
       "        [7, 2, 8]], dtype=int32),\n",
       " array([[1, 7, 5],\n",
       "        [7, 8, 3],\n",
       "        [2, 8, 8]], dtype=int32),\n",
       " array([[7, 5, 8],\n",
       "        [8, 3, 4],\n",
       "        [8, 8, 6]], dtype=int32),\n",
       " array([[5, 8, 0],\n",
       "        [3, 4, 3],\n",
       "        [8, 6, 7]], dtype=int32),\n",
       " array([[8, 0, 5],\n",
       "        [4, 3, 2],\n",
       "        [6, 7, 4]], dtype=int32),\n",
       " array([[0, 5, 9],\n",
       "        [3, 2, 3],\n",
       "        [7, 4, 7]], dtype=int32),\n",
       " array([[5, 9, 2],\n",
       "        [2, 3, 6],\n",
       "        [4, 7, 0]], dtype=int32),\n",
       " array([[9, 2, 7],\n",
       "        [3, 6, 4],\n",
       "        [7, 0, 5]], dtype=int32),\n",
       " array([[9, 7, 8],\n",
       "        [7, 2, 8],\n",
       "        [5, 3, 8]], dtype=int32),\n",
       " array([[7, 8, 3],\n",
       "        [2, 8, 8],\n",
       "        [3, 8, 2]], dtype=int32),\n",
       " array([[8, 3, 4],\n",
       "        [8, 8, 6],\n",
       "        [8, 2, 7]], dtype=int32),\n",
       " array([[3, 4, 3],\n",
       "        [8, 6, 7],\n",
       "        [2, 7, 6]], dtype=int32),\n",
       " array([[4, 3, 2],\n",
       "        [6, 7, 4],\n",
       "        [7, 6, 6]], dtype=int32),\n",
       " array([[3, 2, 3],\n",
       "        [7, 4, 7],\n",
       "        [6, 6, 8]], dtype=int32),\n",
       " array([[2, 3, 6],\n",
       "        [4, 7, 0],\n",
       "        [6, 8, 4]], dtype=int32),\n",
       " array([[3, 6, 4],\n",
       "        [7, 0, 5],\n",
       "        [8, 4, 2]], dtype=int32),\n",
       " array([[7, 2, 8],\n",
       "        [5, 3, 8],\n",
       "        [9, 2, 2]], dtype=int32),\n",
       " array([[2, 8, 8],\n",
       "        [3, 8, 2],\n",
       "        [2, 2, 8]], dtype=int32),\n",
       " array([[8, 8, 6],\n",
       "        [8, 2, 7],\n",
       "        [2, 8, 7]], dtype=int32),\n",
       " array([[8, 6, 7],\n",
       "        [2, 7, 6],\n",
       "        [8, 7, 0]], dtype=int32),\n",
       " array([[6, 7, 4],\n",
       "        [7, 6, 6],\n",
       "        [7, 0, 0]], dtype=int32),\n",
       " array([[7, 4, 7],\n",
       "        [6, 6, 8],\n",
       "        [0, 0, 5]], dtype=int32),\n",
       " array([[4, 7, 0],\n",
       "        [6, 8, 4],\n",
       "        [0, 5, 4]], dtype=int32),\n",
       " array([[7, 0, 5],\n",
       "        [8, 4, 2],\n",
       "        [5, 4, 1]], dtype=int32),\n",
       " array([[5, 3, 8],\n",
       "        [9, 2, 2],\n",
       "        [3, 0, 5]], dtype=int32),\n",
       " array([[3, 8, 2],\n",
       "        [2, 2, 8],\n",
       "        [0, 5, 8]], dtype=int32),\n",
       " array([[8, 2, 7],\n",
       "        [2, 8, 7],\n",
       "        [5, 8, 3]], dtype=int32),\n",
       " array([[2, 7, 6],\n",
       "        [8, 7, 0],\n",
       "        [8, 3, 6]], dtype=int32),\n",
       " array([[7, 6, 6],\n",
       "        [7, 0, 0],\n",
       "        [3, 6, 3]], dtype=int32),\n",
       " array([[6, 6, 8],\n",
       "        [0, 0, 5],\n",
       "        [6, 3, 1]], dtype=int32),\n",
       " array([[6, 8, 4],\n",
       "        [0, 5, 4],\n",
       "        [3, 1, 0]], dtype=int32),\n",
       " array([[8, 4, 2],\n",
       "        [5, 4, 1],\n",
       "        [1, 0, 8]], dtype=int32),\n",
       " array([[9, 2, 2],\n",
       "        [3, 0, 5],\n",
       "        [8, 1, 1]], dtype=int32),\n",
       " array([[2, 2, 8],\n",
       "        [0, 5, 8],\n",
       "        [1, 1, 9]], dtype=int32),\n",
       " array([[2, 8, 7],\n",
       "        [5, 8, 3],\n",
       "        [1, 9, 5]], dtype=int32),\n",
       " array([[8, 7, 0],\n",
       "        [8, 3, 6],\n",
       "        [9, 5, 1]], dtype=int32),\n",
       " array([[7, 0, 0],\n",
       "        [3, 6, 3],\n",
       "        [5, 1, 4]], dtype=int32),\n",
       " array([[0, 0, 5],\n",
       "        [6, 3, 1],\n",
       "        [1, 4, 0]], dtype=int32),\n",
       " array([[0, 5, 4],\n",
       "        [3, 1, 0],\n",
       "        [4, 0, 4]], dtype=int32),\n",
       " array([[5, 4, 1],\n",
       "        [1, 0, 8],\n",
       "        [0, 4, 9]], dtype=int32),\n",
       " array([[3, 0, 5],\n",
       "        [8, 1, 1],\n",
       "        [2, 6, 9]], dtype=int32),\n",
       " array([[0, 5, 8],\n",
       "        [1, 1, 9],\n",
       "        [6, 9, 9]], dtype=int32),\n",
       " array([[5, 8, 3],\n",
       "        [1, 9, 5],\n",
       "        [9, 9, 0]], dtype=int32),\n",
       " array([[8, 3, 6],\n",
       "        [9, 5, 1],\n",
       "        [9, 0, 5]], dtype=int32),\n",
       " array([[3, 6, 3],\n",
       "        [5, 1, 4],\n",
       "        [0, 5, 9]], dtype=int32),\n",
       " array([[6, 3, 1],\n",
       "        [1, 4, 0],\n",
       "        [5, 9, 0]], dtype=int32),\n",
       " array([[3, 1, 0],\n",
       "        [4, 0, 4],\n",
       "        [9, 0, 0]], dtype=int32),\n",
       " array([[1, 0, 8],\n",
       "        [0, 4, 9],\n",
       "        [0, 0, 6]], dtype=int32),\n",
       " array([[8, 1, 1],\n",
       "        [2, 6, 9],\n",
       "        [9, 4, 6]], dtype=int32),\n",
       " array([[1, 1, 9],\n",
       "        [6, 9, 9],\n",
       "        [4, 6, 7]], dtype=int32),\n",
       " array([[1, 9, 5],\n",
       "        [9, 9, 0],\n",
       "        [6, 7, 5]], dtype=int32),\n",
       " array([[9, 5, 1],\n",
       "        [9, 0, 5],\n",
       "        [7, 5, 8]], dtype=int32),\n",
       " array([[5, 1, 4],\n",
       "        [0, 5, 9],\n",
       "        [5, 8, 2]], dtype=int32),\n",
       " array([[1, 4, 0],\n",
       "        [5, 9, 0],\n",
       "        [8, 2, 2]], dtype=int32),\n",
       " array([[4, 0, 4],\n",
       "        [9, 0, 0],\n",
       "        [2, 2, 9]], dtype=int32),\n",
       " array([[0, 4, 9],\n",
       "        [0, 0, 6],\n",
       "        [2, 9, 5]], dtype=int32),\n",
       " array([[2, 6, 9],\n",
       "        [9, 4, 6],\n",
       "        [9, 3, 0]], dtype=int32),\n",
       " array([[6, 9, 9],\n",
       "        [4, 6, 7],\n",
       "        [3, 0, 1]], dtype=int32),\n",
       " array([[9, 9, 0],\n",
       "        [6, 7, 5],\n",
       "        [0, 1, 4]], dtype=int32),\n",
       " array([[9, 0, 5],\n",
       "        [7, 5, 8],\n",
       "        [1, 4, 9]], dtype=int32),\n",
       " array([[0, 5, 9],\n",
       "        [5, 8, 2],\n",
       "        [4, 9, 9]], dtype=int32),\n",
       " array([[5, 9, 0],\n",
       "        [8, 2, 2],\n",
       "        [9, 9, 3]], dtype=int32),\n",
       " array([[9, 0, 0],\n",
       "        [2, 2, 9],\n",
       "        [9, 3, 1]], dtype=int32),\n",
       " array([[0, 0, 6],\n",
       "        [2, 9, 5],\n",
       "        [3, 1, 8]], dtype=int32)]"
      ]
     },
     "execution_count": 42,
     "metadata": {},
     "output_type": "execute_result"
    }
   ],
   "source": [
    "#84. Extract all the contiguous 3x3 blocks from a random 10x10 matrix (★★★)\n",
    "\n",
    "matrix = np.random.randint(0,10,size=(10,10))\n",
    "\n",
    "def extract_blocks(matrix):\n",
    "    blocks = []\n",
    "    rows,cols = matrix.shape\n",
    "\n",
    "    for i in range(rows - 2):\n",
    "        for j in range(cols -2):\n",
    "            block = matrix[i:i+3, j:j+3]\n",
    "            blocks.append(block)\n",
    "\n",
    "    return blocks\n",
    "\n",
    "extract_blocks(matrix)\n"
   ]
  },
  {
   "cell_type": "code",
   "execution_count": null,
   "metadata": {},
   "outputs": [
    {
     "ename": "",
     "evalue": "",
     "output_type": "error",
     "traceback": [
      "\u001b[1;31mThe Kernel crashed while executing code in the current cell or a previous cell. \n",
      "\u001b[1;31mPlease review the code in the cell(s) to identify a possible cause of the failure. \n",
      "\u001b[1;31mClick <a href='https://aka.ms/vscodeJupyterKernelCrash'>here</a> for more info. \n",
      "\u001b[1;31mView Jupyter <a href='command:jupyter.viewOutput'>log</a> for further details."
     ]
    }
   ],
   "source": [
    "#85. Create a 2D array subclass such that Z[i,j] == Z[j,i] (★★★)\n",
    "class SymmetricArray(np.ndarray):\n",
    "    def __new__(cls, input_array):\n",
    "        obj = np.asarray(input_array).view(cls)\n",
    "        return obj\n",
    "\n",
    "    def __array_finalize__(self, obj):\n",
    "        if obj is None:\n",
    "            return\n",
    "        # Ensure the array is symmetric after any operations\n",
    "        self[:] = (self + self.T) / 2\n",
    "\n",
    "A=np.array([[1,2,3],\n",
    "            [4,5,6],\n",
    "            [3,4,5]])\n",
    "\n",
    "S = SymmetricArray(A)\n",
    "\n",
    "print(S)\n"
   ]
  },
  {
   "cell_type": "code",
   "execution_count": null,
   "metadata": {},
   "outputs": [],
   "source": [
    "#86. Consider a set of p matrices wich shape (n,n) and a set of p vectors with shape (n,1). How to compute the sum of of the p matrix products at once? (result has shape (n,1)) (★★★)\n",
    "\n",
    "p = 3\n",
    "n = 4\n",
    "\n",
    "matrices = np.random.rand(p,n,n)\n",
    "vectors = np.random.rand(p,n,1)\n",
    "\n",
    "sum_matrix= np.sum(np.matmul(matrices,vectors),axis =0)\n",
    "\n",
    "print('Matrices:\\n',matrices)\n",
    "print('Vectors:\\n',vectors)\n",
    "print('Sum:\\n',sum_matrix)"
   ]
  },
  {
   "cell_type": "code",
   "execution_count": null,
   "metadata": {},
   "outputs": [],
   "source": [
    "\n",
    "#87. Consider a 16x16 array, how to get the block-sum (block size is 4x4)? (★★★)\n",
    "\n",
    "arr = np.random.randint(1,10,size=(16,16))\n",
    "\n",
    "blocks = arr.reshape(4,4,4,4)\n",
    "\n",
    "blocks_sum = blocks.sum(axis=(-2,-1))\n",
    "\n",
    "print('Original Array:\\n',arr)\n",
    "print('Block sum\\n',blocks_sum)"
   ]
  },
  {
   "cell_type": "code",
   "execution_count": null,
   "metadata": {},
   "outputs": [],
   "source": [
    "#88. How to implement the Game of Life using numpy arrays?"
   ]
  },
  {
   "cell_type": "code",
   "execution_count": 1,
   "metadata": {},
   "outputs": [
    {
     "ename": "NameError",
     "evalue": "name 'np' is not defined",
     "output_type": "error",
     "traceback": [
      "\u001b[1;31m---------------------------------------------------------------------------\u001b[0m",
      "\u001b[1;31mNameError\u001b[0m                                 Traceback (most recent call last)",
      "Cell \u001b[1;32mIn[1], line 3\u001b[0m\n\u001b[0;32m      1\u001b[0m \u001b[38;5;66;03m#89. How to get the n largest values of an array (★★★)\u001b[39;00m\n\u001b[1;32m----> 3\u001b[0m arr \u001b[38;5;241m=\u001b[39m \u001b[43mnp\u001b[49m\u001b[38;5;241m.\u001b[39marray([\u001b[38;5;241m3\u001b[39m,\u001b[38;5;241m1\u001b[39m,\u001b[38;5;241m5\u001b[39m,\u001b[38;5;241m6\u001b[39m,\u001b[38;5;241m3\u001b[39m])\n\u001b[0;32m      5\u001b[0m n \u001b[38;5;241m=\u001b[39m \u001b[38;5;241m3\u001b[39m\n\u001b[0;32m      7\u001b[0m largest_values \u001b[38;5;241m=\u001b[39m np\u001b[38;5;241m.\u001b[39mpartition(arr, \u001b[38;5;241m-\u001b[39mn)[\u001b[38;5;241m-\u001b[39mn:]\n",
      "\u001b[1;31mNameError\u001b[0m: name 'np' is not defined"
     ]
    }
   ],
   "source": [
    "#89. How to get the n largest values of an array (★★★)\n",
    "\n",
    "arr = np.array([3,1,5,6,3])\n",
    "\n",
    "n = 3\n",
    "\n",
    "largest_values = np.partition(arr, -n)[-n:]\n",
    "\n",
    "print(largest_values)\n"
   ]
  },
  {
   "cell_type": "code",
   "execution_count": null,
   "metadata": {},
   "outputs": [],
   "source": [
    "\n",
    "#90. Given an arbitrary number of vectors, build the cartesian product (every combinations of every item) (★★★)\n",
    "\n"
   ]
  },
  {
   "cell_type": "code",
   "execution_count": null,
   "metadata": {},
   "outputs": [],
   "source": [
    "#91. How to create a record array from a regular array? (★★★)\n",
    "\n",
    "regular_array = np.array([[1,'Kate',23],\n",
    "                          [2,'James',24],\n",
    "                          [3,'Jason',35]])\n",
    "\n",
    "field_names = ['ID','Name','Age']\n",
    "\n",
    "record_array = np.core.records.fromarrays(regular_array.T,names = fields)\n",
    "\n",
    "print('Record Array:\\n',record_array)"
   ]
  },
  {
   "cell_type": "code",
   "execution_count": null,
   "metadata": {},
   "outputs": [],
   "source": [
    "#92. Consider a large vector Z, compute Z to the power of 3 using 3 different methods (★★★)\n",
    "Z = np.random.rand(1000000)\n",
    "\n",
    "Z_cubed = Z**3\n",
    "Z_cubed = np.power(Z, 3)\n",
    "Z_cubed = Z*Z*Z\n"
   ]
  },
  {
   "cell_type": "code",
   "execution_count": null,
   "metadata": {},
   "outputs": [],
   "source": [
    "#93. Consider two arrays A and B of shape (8,3) and (2,2). How to find rows of A that contain elements of each row of B regardless of the order of the elements in B? (★★★)\n",
    "A = np.array([[1,2,3],\n",
    "              [4,5,6],\n",
    "              [7,8,9],\n",
    "              [11,1,2],\n",
    "              [3,5,6],\n",
    "              [7,8,9],\n",
    "              [2,4,6],\n",
    "              [7,4,3]])"
   ]
  },
  {
   "cell_type": "code",
   "execution_count": null,
   "metadata": {},
   "outputs": [],
   "source": [
    "#94. Considering a 10x3 matrix, extract rows with unequal values (e.g. [2,2,3]) (★★★)"
   ]
  },
  {
   "cell_type": "code",
   "execution_count": null,
   "metadata": {},
   "outputs": [],
   "source": [
    "#95. Convert a vector of ints into a matrix binary representation (★★★)"
   ]
  },
  {
   "cell_type": "code",
   "execution_count": null,
   "metadata": {},
   "outputs": [],
   "source": [
    "#96. Given a two dimensional array, how to extract unique rows? (★★★)"
   ]
  },
  {
   "cell_type": "code",
   "execution_count": null,
   "metadata": {},
   "outputs": [],
   "source": [
    "#97. Considering 2 vectors A & B, write the einsum equivalent of inner, outer, sum, and mul function (★★★)"
   ]
  },
  {
   "cell_type": "code",
   "execution_count": null,
   "metadata": {},
   "outputs": [],
   "source": [
    "#98. Considering a path described by two vectors (X,Y), how to sample it using equidistant samples (★★★)?"
   ]
  },
  {
   "cell_type": "code",
   "execution_count": null,
   "metadata": {},
   "outputs": [],
   "source": [
    "\n",
    "#99. Given an integer n and a 2D array X, select from X the rows which can be interpreted as draws from a multinomial distribution with n degrees, i.e., the rows which only contain integers and which sum to n. (★★★)"
   ]
  },
  {
   "cell_type": "code",
   "execution_count": null,
   "metadata": {},
   "outputs": [],
   "source": [
    "#100. Compute bootstrapped 95% confidence intervals for the mean of a 1D array X (i.e., resample the elements of an array with replacement N times, compute the mean of each sample, and then compute percentiles over the means). (★★★)\n",
    "\n",
    "\n",
    "\n"
   ]
  }
 ],
 "metadata": {
  "kernelspec": {
   "display_name": "datavis",
   "language": "python",
   "name": "python3"
  },
  "language_info": {
   "codemirror_mode": {
    "name": "ipython",
    "version": 3
   },
   "file_extension": ".py",
   "mimetype": "text/x-python",
   "name": "python",
   "nbconvert_exporter": "python",
   "pygments_lexer": "ipython3",
   "version": "3.12.4"
  }
 },
 "nbformat": 4,
 "nbformat_minor": 2
}
